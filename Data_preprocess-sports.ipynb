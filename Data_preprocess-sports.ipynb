{
 "cells": [
  {
   "cell_type": "code",
   "execution_count": 1,
   "id": "98aca5f2-413c-4300-9230-6b5098270d1e",
   "metadata": {},
   "outputs": [],
   "source": [
    "import random\n",
    "import copy\n",
    "import time\n",
    "import pandas as pd\n",
    "import numpy as np\n",
    "import gc\n",
    "import re\n",
    "import torch\n",
    "\n",
    "#import spacy\n",
    "from tqdm import tqdm_notebook, tnrange\n",
    "from tqdm.auto import tqdm\n",
    "\n",
    "tqdm.pandas(desc='Progress')\n",
    "from collections import Counter\n",
    "\n",
    "import nltk\n",
    "from nltk import word_tokenize\n",
    "\n",
    "import matplotlib.pyplot as plt"
   ]
  },
  {
   "cell_type": "code",
   "execution_count": 2,
   "id": "b366db49-5842-4bac-a8d6-b77a823ccd92",
   "metadata": {},
   "outputs": [
    {
     "name": "stderr",
     "output_type": "stream",
     "text": [
      "[nltk_data] Downloading package punkt to\n",
      "[nltk_data]     C:\\Users\\merecat\\AppData\\Roaming\\nltk_data...\n",
      "[nltk_data]   Package punkt is already up-to-date!\n",
      "[nltk_data] Downloading package wordnet to\n",
      "[nltk_data]     C:\\Users\\merecat\\AppData\\Roaming\\nltk_data...\n",
      "[nltk_data]   Package wordnet is already up-to-date!\n",
      "[nltk_data] Downloading package stopwords to\n",
      "[nltk_data]     C:\\Users\\merecat\\AppData\\Roaming\\nltk_data...\n",
      "[nltk_data]   Package stopwords is already up-to-date!\n"
     ]
    },
    {
     "data": {
      "text/plain": [
       "True"
      ]
     },
     "execution_count": 2,
     "metadata": {},
     "output_type": "execute_result"
    }
   ],
   "source": [
    "nltk.download('punkt')\n",
    "nltk.download('wordnet')\n",
    "nltk.download('stopwords')"
   ]
  },
  {
   "cell_type": "code",
   "execution_count": 4,
   "id": "63e7d9d9-d061-459a-a7fc-9283cb9f4f43",
   "metadata": {},
   "outputs": [],
   "source": [
    "df_purged = pd.read_csv(\"data/Sports_and_Outdoors_5.csv\")\n",
    "df_purged = df_purged.dropna()"
   ]
  },
  {
   "cell_type": "code",
   "execution_count": 5,
   "id": "c5ca9175-8a9d-460a-aba6-84159ba44338",
   "metadata": {},
   "outputs": [
    {
     "data": {
      "text/plain": [
       "2838824"
      ]
     },
     "execution_count": 5,
     "metadata": {},
     "output_type": "execute_result"
    }
   ],
   "source": [
    "len(df_purged)"
   ]
  },
  {
   "cell_type": "code",
   "execution_count": 6,
   "id": "0ff6db2c-3c45-4646-8052-12a7fb51657e",
   "metadata": {},
   "outputs": [
    {
     "data": {
      "text/html": [
       "<div>\n",
       "<style scoped>\n",
       "    .dataframe tbody tr th:only-of-type {\n",
       "        vertical-align: middle;\n",
       "    }\n",
       "\n",
       "    .dataframe tbody tr th {\n",
       "        vertical-align: top;\n",
       "    }\n",
       "\n",
       "    .dataframe thead th {\n",
       "        text-align: right;\n",
       "    }\n",
       "</style>\n",
       "<table border=\"1\" class=\"dataframe\">\n",
       "  <thead>\n",
       "    <tr style=\"text-align: right;\">\n",
       "      <th></th>\n",
       "      <th>Unnamed: 0</th>\n",
       "      <th>reviewText</th>\n",
       "      <th>overall</th>\n",
       "      <th>label</th>\n",
       "    </tr>\n",
       "  </thead>\n",
       "  <tbody>\n",
       "    <tr>\n",
       "      <th>0</th>\n",
       "      <td>0</td>\n",
       "      <td>What a spectacular tutu! Very slimming.</td>\n",
       "      <td>5.0</td>\n",
       "      <td>2.0</td>\n",
       "    </tr>\n",
       "    <tr>\n",
       "      <th>1</th>\n",
       "      <td>1</td>\n",
       "      <td>What the heck? Is this a tutu for nuns? I know...</td>\n",
       "      <td>1.0</td>\n",
       "      <td>0.0</td>\n",
       "    </tr>\n",
       "    <tr>\n",
       "      <th>2</th>\n",
       "      <td>2</td>\n",
       "      <td>Exactly what we were looking for!</td>\n",
       "      <td>5.0</td>\n",
       "      <td>2.0</td>\n",
       "    </tr>\n",
       "    <tr>\n",
       "      <th>3</th>\n",
       "      <td>3</td>\n",
       "      <td>I used this skirt for a Halloween costume and ...</td>\n",
       "      <td>5.0</td>\n",
       "      <td>2.0</td>\n",
       "    </tr>\n",
       "    <tr>\n",
       "      <th>4</th>\n",
       "      <td>4</td>\n",
       "      <td>This is thick enough that you can't see throug...</td>\n",
       "      <td>4.0</td>\n",
       "      <td>2.0</td>\n",
       "    </tr>\n",
       "  </tbody>\n",
       "</table>\n",
       "</div>"
      ],
      "text/plain": [
       "   Unnamed: 0                                         reviewText  overall  \\\n",
       "0           0            What a spectacular tutu! Very slimming.      5.0   \n",
       "1           1  What the heck? Is this a tutu for nuns? I know...      1.0   \n",
       "2           2                  Exactly what we were looking for!      5.0   \n",
       "3           3  I used this skirt for a Halloween costume and ...      5.0   \n",
       "4           4  This is thick enough that you can't see throug...      4.0   \n",
       "\n",
       "   label  \n",
       "0    2.0  \n",
       "1    0.0  \n",
       "2    2.0  \n",
       "3    2.0  \n",
       "4    2.0  "
      ]
     },
     "execution_count": 6,
     "metadata": {},
     "output_type": "execute_result"
    }
   ],
   "source": [
    "df_purged.head()"
   ]
  },
  {
   "cell_type": "code",
   "execution_count": 11,
   "id": "24c19d80-fb00-4afa-9cb0-92965c88483f",
   "metadata": {},
   "outputs": [
    {
     "name": "stdout",
     "output_type": "stream",
     "text": [
      "600000\n"
     ]
    },
    {
     "data": {
      "text/plain": [
       "2.0    600000\n",
       "0.0    212758\n",
       "1.0    210179\n",
       "Name: label, dtype: int64"
      ]
     },
     "execution_count": 11,
     "metadata": {},
     "output_type": "execute_result"
    }
   ],
   "source": [
    "from sklearn.utils import resample\n",
    "# Separate positive, neutral and negative classes\n",
    "df_pos = df_purged[df_purged.label==2]\n",
    "df_neut = df_purged[df_purged.label==1]\n",
    "df_neg = df_purged[df_purged.label==0]\n",
    "n_sample = 600000\n",
    "print(n_sample)\n",
    "# Downsample majority class\n",
    "df_pos_downsampled = resample(df_pos, \n",
    "                              replace=False,    # sample without replacement\n",
    "                              n_samples=n_sample,     # to match minority class\n",
    "                              random_state=123) # reproducible results\n",
    " \n",
    "# Combine minority class with downsampled majority class\n",
    "df_purged = pd.concat([df_pos_downsampled, df_neut, df_neg])\n",
    " \n",
    "# Display new class counts\n",
    "df_purged.label.value_counts()"
   ]
  },
  {
   "cell_type": "code",
   "execution_count": 18,
   "id": "7752c320-fdd3-4bef-a981-784feadead0d",
   "metadata": {},
   "outputs": [],
   "source": [
    "df_purged = df_purged[['reviewText', 'overall', 'label']].reset_index(drop=True)\n",
    "df_purged.to_pickle(\"data/Sports_and_Outdoors_5_balanced.csv\")"
   ]
  },
  {
   "cell_type": "code",
   "execution_count": 12,
   "id": "80cc674e-0603-4042-85a7-d6305ba8db9a",
   "metadata": {},
   "outputs": [
    {
     "data": {
      "text/html": [
       "<div>\n",
       "<style scoped>\n",
       "    .dataframe tbody tr th:only-of-type {\n",
       "        vertical-align: middle;\n",
       "    }\n",
       "\n",
       "    .dataframe tbody tr th {\n",
       "        vertical-align: top;\n",
       "    }\n",
       "\n",
       "    .dataframe thead th {\n",
       "        text-align: right;\n",
       "    }\n",
       "</style>\n",
       "<table border=\"1\" class=\"dataframe\">\n",
       "  <thead>\n",
       "    <tr style=\"text-align: right;\">\n",
       "      <th></th>\n",
       "      <th>Unnamed: 0</th>\n",
       "      <th>reviewText</th>\n",
       "      <th>overall</th>\n",
       "    </tr>\n",
       "    <tr>\n",
       "      <th>label</th>\n",
       "      <th></th>\n",
       "      <th></th>\n",
       "      <th></th>\n",
       "    </tr>\n",
       "  </thead>\n",
       "  <tbody>\n",
       "    <tr>\n",
       "      <th>0.0</th>\n",
       "      <td>212758</td>\n",
       "      <td>212758</td>\n",
       "      <td>212758</td>\n",
       "    </tr>\n",
       "    <tr>\n",
       "      <th>1.0</th>\n",
       "      <td>210179</td>\n",
       "      <td>210179</td>\n",
       "      <td>210179</td>\n",
       "    </tr>\n",
       "    <tr>\n",
       "      <th>2.0</th>\n",
       "      <td>600000</td>\n",
       "      <td>600000</td>\n",
       "      <td>600000</td>\n",
       "    </tr>\n",
       "  </tbody>\n",
       "</table>\n",
       "</div>"
      ],
      "text/plain": [
       "       Unnamed: 0  reviewText  overall\n",
       "label                                 \n",
       "0.0        212758      212758   212758\n",
       "1.0        210179      210179   210179\n",
       "2.0        600000      600000   600000"
      ]
     },
     "execution_count": 12,
     "metadata": {},
     "output_type": "execute_result"
    }
   ],
   "source": [
    "# check how balanced the training dataset is\n",
    "df_purged.groupby(['label']).count()"
   ]
  },
  {
   "cell_type": "code",
   "execution_count": 13,
   "id": "4c3d0ce5-3e5d-44b2-ad12-cacbb44ad3da",
   "metadata": {},
   "outputs": [],
   "source": [
    "from nltk.corpus import stopwords\n",
    "from nltk.tag import pos_tag\n",
    "from nltk.tokenize import word_tokenize\n",
    "from nltk.stem.wordnet import WordNetLemmatizer"
   ]
  },
  {
   "cell_type": "code",
   "execution_count": 14,
   "id": "4faa02af-6491-41e8-b620-08eccb8b8361",
   "metadata": {},
   "outputs": [
    {
     "name": "stdout",
     "output_type": "stream",
     "text": [
      "['i', 'me', 'my', 'myself', 'we', 'our', 'ours', 'ourselves', 'you', \"you're\", \"you've\", \"you'll\", \"you'd\", 'your', 'yours', 'yourself', 'yourselves', 'he', 'him', 'his', 'himself', 'she', \"she's\", 'her', 'hers', 'herself', 'it', \"it's\", 'its', 'itself', 'they', 'them', 'their', 'theirs', 'themselves', 'what', 'which', 'who', 'whom', 'this', 'that', \"that'll\", 'these', 'those', 'am', 'is', 'are', 'was', 'were', 'be', 'been', 'being', 'have', 'has', 'had', 'having', 'do', 'does', 'did', 'doing', 'a', 'an', 'the', 'and', 'but', 'if', 'or', 'because', 'as', 'until', 'while', 'of', 'at', 'by', 'for', 'with', 'about', 'against', 'between', 'into', 'through', 'during', 'before', 'after', 'above', 'below', 'to', 'from', 'up', 'down', 'in', 'out', 'on', 'off', 'over', 'under', 'again', 'further', 'then', 'once', 'here', 'there', 'when', 'where', 'why', 'how', 'all', 'any', 'both', 'each', 'few', 'more', 'most', 'other', 'some', 'such', 'no', 'nor', 'not', 'only', 'own', 'same', 'so', 'than', 'too', 'very', 's', 't', 'can', 'will', 'just', 'don', \"don't\", 'should', \"should've\", 'now', 'd', 'll', 'm', 'o', 're', 've', 'y', 'ain', 'aren', \"aren't\", 'couldn', \"couldn't\", 'didn', \"didn't\", 'doesn', \"doesn't\", 'hadn', \"hadn't\", 'hasn', \"hasn't\", 'haven', \"haven't\", 'isn', \"isn't\", 'ma', 'mightn', \"mightn't\", 'mustn', \"mustn't\", 'needn', \"needn't\", 'shan', \"shan't\", 'shouldn', \"shouldn't\", 'wasn', \"wasn't\", 'weren', \"weren't\", 'won', \"won't\", 'wouldn', \"wouldn't\"]\n"
     ]
    }
   ],
   "source": [
    "print(stopwords.words('english'))"
   ]
  },
  {
   "cell_type": "code",
   "execution_count": 15,
   "id": "cafc93d2-00b7-4bec-86b7-c21815838d93",
   "metadata": {},
   "outputs": [],
   "source": [
    "import re\n",
    "import string\n",
    "\n",
    "# remove emojis: https://stackoverflow.com/questions/33404752/removing-emojis-from-a-string-in-python\n",
    "def deEmojify(text):\n",
    "    regrex_pattern = re.compile(pattern = \"[\"\n",
    "        u\"\\U0001F600-\\U0001F64F\"  # emoticons\n",
    "        u\"\\U0001F300-\\U0001F5FF\"  # symbols & pictographs\n",
    "        u\"\\U0001F680-\\U0001F6FF\"  # transport & map symbols\n",
    "        u\"\\U0001F1E0-\\U0001F1FF\"  # flags (iOS)\n",
    "                           \"]+\", flags = re.UNICODE)\n",
    "    return regrex_pattern.sub(r'',text)\n",
    "\n",
    "# data preprocessing\n",
    "def preprocess_text(text):\n",
    "    \n",
    "    stop_words = set(stopwords.words('english'))\n",
    "    # replacing url-s with the word 'url'\n",
    "    text = re.sub('((www\\.[^\\s]+)|(https?://[^\\s]+))','', text)\n",
    "    # replacing usernames-s with the word 'user'\n",
    "    text = re.sub('@[^\\s]+','', text)\n",
    "    # converting text to lowercase\n",
    "    text = text.lower()\n",
    "    # remove HTML tags\n",
    "    text = re.sub('<.*?>', '', text)\n",
    "    # remove punctuation marks\n",
    "    text = re.sub('[%s]' % re.escape(string.punctuation), ' ', text)\n",
    "    # remove multiple spaces\n",
    "    text = re.sub(' +',' ', text)\n",
    "    # replacing numbers with the word 'number'\n",
    "    text = re.sub(r'\\w*\\d+\\w*', '', text)\n",
    "    \n",
    "    tokens = word_tokenize(text)\n",
    "    \n",
    "    cleaned_text = [w for w in tokens if not w.lower() in stop_words]\n",
    "    \n",
    "    cleaned_text = [w for w in cleaned_text if len(w)>2]\n",
    "\n",
    "    # text = deEmojify(text)\n",
    "    \n",
    "    return cleaned_text\n"
   ]
  },
  {
   "cell_type": "code",
   "execution_count": 16,
   "id": "23ff97a2-7186-40d5-9ba4-fa9b39255871",
   "metadata": {},
   "outputs": [
    {
     "data": {
      "application/vnd.jupyter.widget-view+json": {
       "model_id": "47b2031829e645f9bdae8a5583220e02",
       "version_major": 2,
       "version_minor": 0
      },
      "text/plain": [
       "  0%|          | 0/1022937 [00:00<?, ?it/s]"
      ]
     },
     "metadata": {},
     "output_type": "display_data"
    }
   ],
   "source": [
    "# df_purged[\"reviewText\"] = [replace_contractions(t) for t in tqdm(df_purged.reviewText)]\n",
    "text_prep = [preprocess_text(t) for t in tqdm(df_purged.reviewText)]\n",
    "# test_list = [preprocess_text(t) for t in tqdm(df_purged.reviewText[500:1000])]"
   ]
  },
  {
   "cell_type": "code",
   "execution_count": 19,
   "id": "0e4215cc-5c7c-466f-a6d7-14cc29ab0172",
   "metadata": {},
   "outputs": [],
   "source": [
    "df_purged[\"reviewText\"] = text_prep"
   ]
  },
  {
   "cell_type": "code",
   "execution_count": 21,
   "id": "42de9267-5e24-4ac7-922a-b0ca20233f3c",
   "metadata": {},
   "outputs": [
    {
     "data": {
      "text/html": [
       "<div>\n",
       "<style scoped>\n",
       "    .dataframe tbody tr th:only-of-type {\n",
       "        vertical-align: middle;\n",
       "    }\n",
       "\n",
       "    .dataframe tbody tr th {\n",
       "        vertical-align: top;\n",
       "    }\n",
       "\n",
       "    .dataframe thead th {\n",
       "        text-align: right;\n",
       "    }\n",
       "</style>\n",
       "<table border=\"1\" class=\"dataframe\">\n",
       "  <thead>\n",
       "    <tr style=\"text-align: right;\">\n",
       "      <th></th>\n",
       "      <th>reviewText</th>\n",
       "      <th>overall</th>\n",
       "      <th>label</th>\n",
       "    </tr>\n",
       "  </thead>\n",
       "  <tbody>\n",
       "    <tr>\n",
       "      <th>0</th>\n",
       "      <td>[bike, commute, couple, days, week, months, ye...</td>\n",
       "      <td>5.0</td>\n",
       "      <td>2.0</td>\n",
       "    </tr>\n",
       "    <tr>\n",
       "      <th>1</th>\n",
       "      <td>[rolling, years, far, away, favorite, built, t...</td>\n",
       "      <td>5.0</td>\n",
       "      <td>2.0</td>\n",
       "    </tr>\n",
       "    <tr>\n",
       "      <th>2</th>\n",
       "      <td>[one, cool, knife, lot, knives, lot, survival,...</td>\n",
       "      <td>5.0</td>\n",
       "      <td>2.0</td>\n",
       "    </tr>\n",
       "    <tr>\n",
       "      <th>3</th>\n",
       "      <td>[easier, put, together, last, treadmill, moved...</td>\n",
       "      <td>4.0</td>\n",
       "      <td>2.0</td>\n",
       "    </tr>\n",
       "    <tr>\n",
       "      <th>4</th>\n",
       "      <td>[excellent, value, product, rain, fly, offers,...</td>\n",
       "      <td>5.0</td>\n",
       "      <td>2.0</td>\n",
       "    </tr>\n",
       "    <tr>\n",
       "      <th>...</th>\n",
       "      <td>...</td>\n",
       "      <td>...</td>\n",
       "      <td>...</td>\n",
       "    </tr>\n",
       "    <tr>\n",
       "      <th>1022932</th>\n",
       "      <td>[nbsp, diameter, basic, specs, ridden, shimano...</td>\n",
       "      <td>2.0</td>\n",
       "      <td>0.0</td>\n",
       "    </tr>\n",
       "    <tr>\n",
       "      <th>1022933</th>\n",
       "      <td>[way, big, practical]</td>\n",
       "      <td>2.0</td>\n",
       "      <td>0.0</td>\n",
       "    </tr>\n",
       "    <tr>\n",
       "      <th>1022934</th>\n",
       "      <td>[novelty]</td>\n",
       "      <td>1.0</td>\n",
       "      <td>0.0</td>\n",
       "    </tr>\n",
       "    <tr>\n",
       "      <th>1022935</th>\n",
       "      <td>[bought, son, used, tonight, first, time, clea...</td>\n",
       "      <td>2.0</td>\n",
       "      <td>0.0</td>\n",
       "    </tr>\n",
       "    <tr>\n",
       "      <th>1022936</th>\n",
       "      <td>[pros, nice, size, soft, fleecy, side, prevent...</td>\n",
       "      <td>2.0</td>\n",
       "      <td>0.0</td>\n",
       "    </tr>\n",
       "  </tbody>\n",
       "</table>\n",
       "<p>1022937 rows × 3 columns</p>\n",
       "</div>"
      ],
      "text/plain": [
       "                                                reviewText  overall  label\n",
       "0        [bike, commute, couple, days, week, months, ye...      5.0    2.0\n",
       "1        [rolling, years, far, away, favorite, built, t...      5.0    2.0\n",
       "2        [one, cool, knife, lot, knives, lot, survival,...      5.0    2.0\n",
       "3        [easier, put, together, last, treadmill, moved...      4.0    2.0\n",
       "4        [excellent, value, product, rain, fly, offers,...      5.0    2.0\n",
       "...                                                    ...      ...    ...\n",
       "1022932  [nbsp, diameter, basic, specs, ridden, shimano...      2.0    0.0\n",
       "1022933                              [way, big, practical]      2.0    0.0\n",
       "1022934                                          [novelty]      1.0    0.0\n",
       "1022935  [bought, son, used, tonight, first, time, clea...      2.0    0.0\n",
       "1022936  [pros, nice, size, soft, fleecy, side, prevent...      2.0    0.0\n",
       "\n",
       "[1022937 rows x 3 columns]"
      ]
     },
     "execution_count": 21,
     "metadata": {},
     "output_type": "execute_result"
    }
   ],
   "source": [
    "df_purged"
   ]
  },
  {
   "cell_type": "code",
   "execution_count": 22,
   "id": "e4f0db78-c26f-4f7e-bcaa-72a8cb2f38bf",
   "metadata": {},
   "outputs": [],
   "source": [
    "df_purged.to_pickle(\"data/Sports_prep_tokenized_balanced.pkl\")"
   ]
  },
  {
   "cell_type": "code",
   "execution_count": 23,
   "id": "6b2697ac-083b-4332-bea1-a31a2710de4a",
   "metadata": {},
   "outputs": [],
   "source": [
    "df_purged = pd.read_pickle(\"data/Sports_prep_tokenized_balanced.pkl\")"
   ]
  },
  {
   "cell_type": "markdown",
   "id": "7a0d4fe2-62ec-47cd-8de7-4e3e98824763",
   "metadata": {},
   "source": [
    "# Determining reasonable maximum sentence length (eliminating outliers)"
   ]
  },
  {
   "cell_type": "code",
   "execution_count": 24,
   "id": "0f26edd9-4cd5-4051-b2e4-9606021d2906",
   "metadata": {},
   "outputs": [],
   "source": [
    "df_purged['len'] = df_purged['reviewText'].apply(lambda s : len(s))"
   ]
  },
  {
   "cell_type": "code",
   "execution_count": 25,
   "id": "b65e3e05-64a8-4b0d-8415-c9037741845e",
   "metadata": {},
   "outputs": [
    {
     "data": {
      "text/plain": [
       "<AxesSubplot:ylabel='Frequency'>"
      ]
     },
     "execution_count": 25,
     "metadata": {},
     "output_type": "execute_result"
    },
    {
     "data": {
      "image/png": "[encoded data removed]",
      "text/plain": [
       "<Figure size 432x288 with 1 Axes>"
      ]
     },
     "metadata": {
      "needs_background": "light"
     },
     "output_type": "display_data"
    }
   ],
   "source": [
    "df_purged['len'].plot.hist(bins=100)"
   ]
  },
  {
   "cell_type": "code",
   "execution_count": 26,
   "id": "6bcc50a3-7024-4448-ac66-7c891a4d34d5",
   "metadata": {},
   "outputs": [
    {
     "data": {
      "text/plain": [
       "56.0"
      ]
     },
     "execution_count": 26,
     "metadata": {},
     "output_type": "execute_result"
    }
   ],
   "source": [
    "df_purged.len.quantile(0.9)"
   ]
  },
  {
   "cell_type": "code",
   "execution_count": null,
   "id": "a809fae2-8274-450d-b50d-20fb9eaeb4e1",
   "metadata": {},
   "outputs": [],
   "source": []
  }
 ],
 "metadata": {
  "kernelspec": {
   "display_name": "Python 3 (ipykernel)",
   "language": "python",
   "name": "python3"
  },
  "language_info": {
   "codemirror_mode": {
    "name": "ipython",
    "version": 3
   },
   "file_extension": ".py",
   "mimetype": "text/x-python",
   "name": "python",
   "nbconvert_exporter": "python",
   "pygments_lexer": "ipython3",
   "version": "3.8.10"
  }
 },
 "nbformat": 4,
 "nbformat_minor": 5
}
