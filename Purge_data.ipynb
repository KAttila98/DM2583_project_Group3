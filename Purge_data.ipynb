{
 "cells": [
  {
   "cell_type": "code",
   "execution_count": 4,
   "id": "30f9ce8a-8df5-48bb-91bc-0655208ed677",
   "metadata": {},
   "outputs": [
    {
     "name": "stdout",
     "output_type": "stream",
     "text": [
      "100% [......................................................................] 791322468 / 791322468"
     ]
    },
    {
     "data": {
      "text/plain": [
       "'C:/Users/kajud/Downloads/Movies_and_TV_5.json.gz'"
      ]
     },
     "execution_count": 4,
     "metadata": {},
     "output_type": "execute_result"
    }
   ],
   "source": [
    "import wget\n",
    "\n",
    "url = \"http://deepyeti.ucsd.edu/jianmo/amazon/categoryFilesSmall/Movies_and_TV_5.json.gz\"\n",
    "\n",
    "wget.download(url, 'C:/Users/kajud/Downloads/Movies_and_TV_5.json.gz')"
   ]
  },
  {
   "cell_type": "code",
   "execution_count": 1,
   "id": "209d4d4e-4384-48e6-a17b-63d78cd64391",
   "metadata": {},
   "outputs": [],
   "source": [
    "import os\n",
    "import json\n",
    "import gzip\n",
    "import pandas as pd\n",
    "from urllib.request import urlopen"
   ]
  },
  {
   "cell_type": "code",
   "execution_count": 3,
   "id": "861a9f2e-f28c-4cf0-9f75-07505571fb81",
   "metadata": {},
   "outputs": [
    {
     "name": "stdout",
     "output_type": "stream",
     "text": [
      "3410019\n",
      "{'overall': 5.0, 'verified': True, 'reviewTime': '11 9, 2012', 'reviewerID': 'A2M1CU2IRZG0K9', 'asin': '0005089549', 'style': {'Format:': ' VHS Tape'}, 'reviewerName': 'Terri', 'reviewText': \"So sorry I didn't purchase this years ago when it first came out!!  This is very good and entertaining!  We absolutely loved it and anticipate seeing it repeatedly.  We actually wore out the cassette years back, so we also purchased this same product on cd.  Best purchase we made out of all!  Would purchase on dvd if we could find one.\", 'summary': 'Amazing!', 'unixReviewTime': 1352419200}\n"
     ]
    }
   ],
   "source": [
    "### load the data\n",
    "\n",
    "data = []\n",
    "with gzip.open('data/Movies_and_TV_5.json.gz') as f:\n",
    "    for l in f:\n",
    "        data.append(json.loads(l.strip()))\n",
    "    \n",
    "# total length of list, this number equals total number of entries\n",
    "print(len(data))\n",
    "\n",
    "# first row of the list\n",
    "print(data[0])"
   ]
  },
  {
   "cell_type": "code",
   "execution_count": 4,
   "id": "bd7ba759-9e31-41b8-acff-0bccfdc18895",
   "metadata": {},
   "outputs": [],
   "source": [
    "import json\n",
    "with open('Movies_and_TV_5.json', 'w') as outfile:\n",
    "    json.dump(data, outfile)"
   ]
  },
  {
   "cell_type": "code",
   "execution_count": 2,
   "id": "1b7b7bda-5ac0-46aa-9658-f40deec22edb",
   "metadata": {},
   "outputs": [],
   "source": [
    "# Opening JSON file\n",
    "f = open('Movies_and_TV_5.json',)\n",
    " \n",
    "# returns JSON object as\n",
    "# a dictionary\n",
    "data = json.load(f)"
   ]
  },
  {
   "cell_type": "code",
   "execution_count": 3,
   "id": "d6ec9210-132a-4456-a3a5-495704808a27",
   "metadata": {},
   "outputs": [
    {
     "name": "stdout",
     "output_type": "stream",
     "text": [
      "3410019\n",
      "{'overall': 5.0, 'verified': True, 'reviewTime': '11 9, 2012', 'reviewerID': 'A2M1CU2IRZG0K9', 'asin': '0005089549', 'style': {'Format:': ' VHS Tape'}, 'reviewerName': 'Terri', 'reviewText': \"So sorry I didn't purchase this years ago when it first came out!!  This is very good and entertaining!  We absolutely loved it and anticipate seeing it repeatedly.  We actually wore out the cassette years back, so we also purchased this same product on cd.  Best purchase we made out of all!  Would purchase on dvd if we could find one.\", 'summary': 'Amazing!', 'unixReviewTime': 1352419200}\n"
     ]
    }
   ],
   "source": [
    "# total length of list, this number equals total number of entries\n",
    "print(len(data))\n",
    "\n",
    "# first row of the list\n",
    "print(data[0])"
   ]
  },
  {
   "cell_type": "code",
   "execution_count": 4,
   "id": "d4fd6940-043b-4bbb-93fa-bf90ed23455e",
   "metadata": {},
   "outputs": [],
   "source": [
    "df = pd.DataFrame.from_dict(data)"
   ]
  },
  {
   "cell_type": "code",
   "execution_count": 20,
   "id": "30770a52-f9ca-4b9b-a826-cf178091fd5c",
   "metadata": {},
   "outputs": [],
   "source": [
    "df_purged = df[[\"reviewText\", \"overall\"]]"
   ]
  },
  {
   "cell_type": "code",
   "execution_count": 24,
   "id": "79f11136-ba3a-42b1-a5f3-4a6264820515",
   "metadata": {},
   "outputs": [
    {
     "name": "stderr",
     "output_type": "stream",
     "text": [
      "C:\\Users\\kajud\\anaconda3\\lib\\site-packages\\pandas\\core\\indexing.py:1599: SettingWithCopyWarning: \n",
      "A value is trying to be set on a copy of a slice from a DataFrame.\n",
      "Try using .loc[row_indexer,col_indexer] = value instead\n",
      "\n",
      "See the caveats in the documentation: https://pandas.pydata.org/pandas-docs/stable/user_guide/indexing.html#returning-a-view-versus-a-copy\n",
      "  self.obj[key] = infer_fill_value(value)\n",
      "C:\\Users\\kajud\\anaconda3\\lib\\site-packages\\pandas\\core\\indexing.py:1720: SettingWithCopyWarning: \n",
      "A value is trying to be set on a copy of a slice from a DataFrame.\n",
      "Try using .loc[row_indexer,col_indexer] = value instead\n",
      "\n",
      "See the caveats in the documentation: https://pandas.pydata.org/pandas-docs/stable/user_guide/indexing.html#returning-a-view-versus-a-copy\n",
      "  self._setitem_single_column(loc, value, pi)\n",
      "C:\\Users\\kajud\\anaconda3\\lib\\site-packages\\pandas\\core\\indexing.py:1720: SettingWithCopyWarning: \n",
      "A value is trying to be set on a copy of a slice from a DataFrame.\n",
      "Try using .loc[row_indexer,col_indexer] = value instead\n",
      "\n",
      "See the caveats in the documentation: https://pandas.pydata.org/pandas-docs/stable/user_guide/indexing.html#returning-a-view-versus-a-copy\n",
      "  self._setitem_single_column(loc, value, pi)\n",
      "C:\\Users\\kajud\\anaconda3\\lib\\site-packages\\pandas\\core\\indexing.py:1720: SettingWithCopyWarning: \n",
      "A value is trying to be set on a copy of a slice from a DataFrame.\n",
      "Try using .loc[row_indexer,col_indexer] = value instead\n",
      "\n",
      "See the caveats in the documentation: https://pandas.pydata.org/pandas-docs/stable/user_guide/indexing.html#returning-a-view-versus-a-copy\n",
      "  self._setitem_single_column(loc, value, pi)\n"
     ]
    }
   ],
   "source": [
    "df_purged.loc[df_purged['overall'] <= 2., 'label'] = 0 \n",
    "df_purged.loc[df_purged['overall'] == 3., 'label'] = 1\n",
    "df_purged.loc[df_purged['overall'] >= 4., 'label'] = 2"
   ]
  },
  {
   "cell_type": "code",
   "execution_count": 29,
   "id": "3965cf9d-dd3d-4f6e-811e-4325b1d5d1d5",
   "metadata": {},
   "outputs": [
    {
     "data": {
      "text/plain": [
       "2.0    2694711\n",
       "0.0     365608\n",
       "1.0     349700\n",
       "Name: label, dtype: int64"
      ]
     },
     "execution_count": 29,
     "metadata": {},
     "output_type": "execute_result"
    }
   ],
   "source": [
    "df_purged['label'].value_counts()"
   ]
  },
  {
   "cell_type": "code",
   "execution_count": 30,
   "id": "1a379c65-5b04-4590-881b-72d5ec00c529",
   "metadata": {},
   "outputs": [],
   "source": [
    "df_purged.to_csv(\"data/Movies_and_TV_5_purged.csv\")"
   ]
  },
  {
   "cell_type": "code",
   "execution_count": 31,
   "id": "75307e9d-b651-4c74-9a3d-9f20999bddc7",
   "metadata": {},
   "outputs": [
    {
     "data": {
      "text/plain": [
       "3410019"
      ]
     },
     "execution_count": 31,
     "metadata": {},
     "output_type": "execute_result"
    }
   ],
   "source": [
    "len(df_purged)"
   ]
  },
  {
   "cell_type": "code",
   "execution_count": null,
   "id": "a81fe554-de79-4802-9d98-6603157a8a26",
   "metadata": {},
   "outputs": [],
   "source": []
  }
 ],
 "metadata": {
  "kernelspec": {
   "display_name": "Python 3 (ipykernel)",
   "language": "python",
   "name": "python3"
  },
  "language_info": {
   "codemirror_mode": {
    "name": "ipython",
    "version": 3
   },
   "file_extension": ".py",
   "mimetype": "text/x-python",
   "name": "python",
   "nbconvert_exporter": "python",
   "pygments_lexer": "ipython3",
   "version": "3.8.10"
  }
 },
 "nbformat": 4,
 "nbformat_minor": 5
}
