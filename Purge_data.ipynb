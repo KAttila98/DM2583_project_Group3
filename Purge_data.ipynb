{
 "cells": [
  {
   "cell_type": "markdown",
   "id": "fb541080-1586-4bf8-912c-fe98701f104a",
   "metadata": {},
   "source": [
    "# Aquiring and cleaning data"
   ]
  },
  {
   "cell_type": "code",
   "execution_count": 1,
   "id": "1e4e0706-4600-4cfc-aea7-73b7558c54d1",
   "metadata": {},
   "outputs": [],
   "source": [
    "# Necessary modules\n",
    "import wget\n",
    "import os\n",
    "import json\n",
    "import gzip\n",
    "import pandas as pd\n",
    "from urllib.request import urlopen"
   ]
  },
  {
   "cell_type": "markdown",
   "id": "b4b5f942-bf0b-4985-ad80-c78e9778c075",
   "metadata": {},
   "source": [
    "## 1. Downloading Amazon review dataset"
   ]
  },
  {
   "cell_type": "code",
   "execution_count": 4,
   "id": "30f9ce8a-8df5-48bb-91bc-0655208ed677",
   "metadata": {},
   "outputs": [
    {
     "name": "stdout",
     "output_type": "stream",
     "text": [
      "100% [......................................................................] 791322468 / 791322468"
     ]
    },
    {
     "data": {
      "text/plain": [
       "'C:/Users/kajud/Downloads/Movies_and_TV_5.json.gz'"
      ]
     },
     "execution_count": 4,
     "metadata": {},
     "output_type": "execute_result"
    }
   ],
   "source": [
    "# link to evaluation data: http://deepyeti.ucsd.edu/jianmo/amazon/categoryFilesSmall/Sports_and_Outdoors_5.json.gz\n",
    "url = \"http://deepyeti.ucsd.edu/jianmo/amazon/categoryFilesSmall/Movies_and_TV_5.json.gz\"\n",
    "wget.download(url, 'C:/Users/kajud/Downloads/Movies_and_TV_5.json.gz')"
   ]
  },
  {
   "cell_type": "markdown",
   "id": "1389e4b2-60dd-47fe-bdde-bebfdf1d370e",
   "metadata": {},
   "source": [
    "## 2. Unzip and load json data"
   ]
  },
  {
   "cell_type": "code",
   "execution_count": 3,
   "id": "861a9f2e-f28c-4cf0-9f75-07505571fb81",
   "metadata": {},
   "outputs": [
    {
     "name": "stdout",
     "output_type": "stream",
     "text": [
      "3410019\n",
      "{'overall': 5.0, 'verified': True, 'reviewTime': '11 9, 2012', 'reviewerID': 'A2M1CU2IRZG0K9', 'asin': '0005089549', 'style': {'Format:': ' VHS Tape'}, 'reviewerName': 'Terri', 'reviewText': \"So sorry I didn't purchase this years ago when it first came out!!  This is very good and entertaining!  We absolutely loved it and anticipate seeing it repeatedly.  We actually wore out the cassette years back, so we also purchased this same product on cd.  Best purchase we made out of all!  Would purchase on dvd if we could find one.\", 'summary': 'Amazing!', 'unixReviewTime': 1352419200}\n"
     ]
    }
   ],
   "source": [
    "### load the data\n",
    "data = []\n",
    "with gzip.open('data/Movies_and_TV_5.json.gz') as f:\n",
    "    for l in f:\n",
    "        data.append(json.loads(l.strip()))\n",
    "    \n",
    "# total length of list, this number equals total number of entries\n",
    "print(len(data))\n",
    "# first row of the list\n",
    "print(data[0])"
   ]
  },
  {
   "cell_type": "code",
   "execution_count": 4,
   "id": "bd7ba759-9e31-41b8-acff-0bccfdc18895",
   "metadata": {},
   "outputs": [],
   "source": [
    "# Save json file for later use\n",
    "with open('Movies_and_TV_5.json', 'w') as outfile:\n",
    "    json.dump(data, outfile)"
   ]
  },
  {
   "cell_type": "code",
   "execution_count": 2,
   "id": "1b7b7bda-5ac0-46aa-9658-f40deec22edb",
   "metadata": {},
   "outputs": [],
   "source": [
    "# Opening JSON file\n",
    "f = open('Movies_and_TV_5.json',)\n",
    " data = json.load(f)"
   ]
  },
  {
   "cell_type": "code",
   "execution_count": 3,
   "id": "d6ec9210-132a-4456-a3a5-495704808a27",
   "metadata": {},
   "outputs": [
    {
     "name": "stdout",
     "output_type": "stream",
     "text": [
      "3410019\n",
      "{'overall': 5.0, 'verified': True, 'reviewTime': '11 9, 2012', 'reviewerID': 'A2M1CU2IRZG0K9', 'asin': '0005089549', 'style': {'Format:': ' VHS Tape'}, 'reviewerName': 'Terri', 'reviewText': \"So sorry I didn't purchase this years ago when it first came out!!  This is very good and entertaining!  We absolutely loved it and anticipate seeing it repeatedly.  We actually wore out the cassette years back, so we also purchased this same product on cd.  Best purchase we made out of all!  Would purchase on dvd if we could find one.\", 'summary': 'Amazing!', 'unixReviewTime': 1352419200}\n"
     ]
    }
   ],
   "source": [
    "# total length of list, this number equals total number of entries\n",
    "print(len(data))\n",
    "# first row of the list\n",
    "print(data[0])"
   ]
  },
  {
   "cell_type": "markdown",
   "id": "b4057c0c-e3ed-4921-b23a-b1d510f0bb83",
   "metadata": {},
   "source": [
    "## 3. Creating dataframe only with necessary columns"
   ]
  },
  {
   "cell_type": "code",
   "execution_count": 20,
   "id": "30770a52-f9ca-4b9b-a826-cf178091fd5c",
   "metadata": {},
   "outputs": [],
   "source": [
    "df = pd.DataFrame.from_dict(data)\n",
    "df_purged = df[[\"reviewText\", \"overall\"]]"
   ]
  },
  {
   "cell_type": "code",
   "execution_count": 24,
   "id": "79f11136-ba3a-42b1-a5f3-4a6264820515",
   "metadata": {
    "collapsed": true,
    "jupyter": {
     "outputs_hidden": true
    },
    "tags": []
   },
   "outputs": [
    {
     "name": "stderr",
     "output_type": "stream",
     "text": [
      "C:\\Users\\kajud\\anaconda3\\lib\\site-packages\\pandas\\core\\indexing.py:1599: SettingWithCopyWarning: \n",
      "A value is trying to be set on a copy of a slice from a DataFrame.\n",
      "Try using .loc[row_indexer,col_indexer] = value instead\n",
      "\n",
      "See the caveats in the documentation: https://pandas.pydata.org/pandas-docs/stable/user_guide/indexing.html#returning-a-view-versus-a-copy\n",
      "  self.obj[key] = infer_fill_value(value)\n",
      "C:\\Users\\kajud\\anaconda3\\lib\\site-packages\\pandas\\core\\indexing.py:1720: SettingWithCopyWarning: \n",
      "A value is trying to be set on a copy of a slice from a DataFrame.\n",
      "Try using .loc[row_indexer,col_indexer] = value instead\n",
      "\n",
      "See the caveats in the documentation: https://pandas.pydata.org/pandas-docs/stable/user_guide/indexing.html#returning-a-view-versus-a-copy\n",
      "  self._setitem_single_column(loc, value, pi)\n",
      "C:\\Users\\kajud\\anaconda3\\lib\\site-packages\\pandas\\core\\indexing.py:1720: SettingWithCopyWarning: \n",
      "A value is trying to be set on a copy of a slice from a DataFrame.\n",
      "Try using .loc[row_indexer,col_indexer] = value instead\n",
      "\n",
      "See the caveats in the documentation: https://pandas.pydata.org/pandas-docs/stable/user_guide/indexing.html#returning-a-view-versus-a-copy\n",
      "  self._setitem_single_column(loc, value, pi)\n",
      "C:\\Users\\kajud\\anaconda3\\lib\\site-packages\\pandas\\core\\indexing.py:1720: SettingWithCopyWarning: \n",
      "A value is trying to be set on a copy of a slice from a DataFrame.\n",
      "Try using .loc[row_indexer,col_indexer] = value instead\n",
      "\n",
      "See the caveats in the documentation: https://pandas.pydata.org/pandas-docs/stable/user_guide/indexing.html#returning-a-view-versus-a-copy\n",
      "  self._setitem_single_column(loc, value, pi)\n"
     ]
    }
   ],
   "source": [
    "# Grouping ratings into three classes (negative-0, neutral-1, positive-2)\n",
    "df_purged.loc[df_purged['overall'] <= 2., 'label'] = 0 \n",
    "df_purged.loc[df_purged['overall'] == 3., 'label'] = 1\n",
    "df_purged.loc[df_purged['overall'] >= 4., 'label'] = 2"
   ]
  },
  {
   "cell_type": "code",
   "execution_count": 29,
   "id": "3965cf9d-dd3d-4f6e-811e-4325b1d5d1d5",
   "metadata": {},
   "outputs": [
    {
     "data": {
      "text/plain": [
       "2.0    2694711\n",
       "0.0     365608\n",
       "1.0     349700\n",
       "Name: label, dtype: int64"
      ]
     },
     "execution_count": 29,
     "metadata": {},
     "output_type": "execute_result"
    }
   ],
   "source": [
    "# Checking how balanced the dataset it\n",
    "df_purged['label'].value_counts()"
   ]
  },
  {
   "cell_type": "code",
   "execution_count": 30,
   "id": "1a379c65-5b04-4590-881b-72d5ec00c529",
   "metadata": {},
   "outputs": [],
   "source": [
    "# Saving cleaned dataset\n",
    "df_purged.to_csv(\"data/Movies_and_TV_5_purged.csv\")"
   ]
  },
  {
   "cell_type": "code",
   "execution_count": 31,
   "id": "75307e9d-b651-4c74-9a3d-9f20999bddc7",
   "metadata": {},
   "outputs": [
    {
     "data": {
      "text/plain": [
       "3410019"
      ]
     },
     "execution_count": 31,
     "metadata": {},
     "output_type": "execute_result"
    }
   ],
   "source": [
    "len(df_purged)"
   ]
  }
 ],
 "metadata": {
  "kernelspec": {
   "display_name": "Python 3 (ipykernel)",
   "language": "python",
   "name": "python3"
  },
  "language_info": {
   "codemirror_mode": {
    "name": "ipython",
    "version": 3
   },
   "file_extension": ".py",
   "mimetype": "text/x-python",
   "name": "python",
   "nbconvert_exporter": "python",
   "pygments_lexer": "ipython3",
   "version": "3.8.10"
  }
 },
 "nbformat": 4,
 "nbformat_minor": 5
}
