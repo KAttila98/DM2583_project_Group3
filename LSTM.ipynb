{
 "cells": [
  {
   "cell_type": "code",
   "execution_count": 1,
   "id": "47b49d72-b1ca-457c-bdf3-17a18bd3ba94",
   "metadata": {},
   "outputs": [],
   "source": [
    "# based on: https://www.kaggle.com/mlwhiz/multiclass-text-classification-pytorch/notebook\n",
    "import random\n",
    "import copy\n",
    "import time\n",
    "import pandas as pd\n",
    "import numpy as np\n",
    "import gc\n",
    "import re\n",
    "import torch\n",
    "\n",
    "#import spacy\n",
    "from tqdm import tqdm_notebook, tnrange\n",
    "from tqdm.auto import tqdm\n",
    "\n",
    "tqdm.pandas(desc='Progress')\n",
    "from collections import Counter\n",
    "\n",
    "from nltk import word_tokenize\n",
    "\n",
    "import torch.nn as nn\n",
    "import torch.optim as optim\n",
    "import torch.nn.functional as F\n",
    "from torch.utils.data import Dataset, DataLoader\n",
    "from torch.nn.utils.rnn import pack_padded_sequence, pad_packed_sequence\n",
    "from torch.autograd import Variable\n",
    "from sklearn.metrics import f1_score\n",
    "import os \n",
    "\n",
    "from keras.preprocessing.text import Tokenizer\n",
    "from keras.preprocessing.sequence import pad_sequences\n",
    "\n",
    "# cross validation and metrics\n",
    "from sklearn.model_selection import StratifiedKFold\n",
    "from sklearn.metrics import f1_score\n",
    "from torch.optim.optimizer import Optimizer\n",
    "\n",
    "from sklearn.preprocessing import StandardScaler\n",
    "from multiprocessing import  Pool\n",
    "from functools import partial\n",
    "import numpy as np\n",
    "from sklearn.decomposition import PCA\n",
    "import torch as t\n",
    "import torch.nn as nn\n",
    "import torch.nn.functional as F\n",
    "\n",
    "import matplotlib.pyplot as plt"
   ]
  },
  {
   "cell_type": "code",
   "execution_count": 2,
   "id": "26a3854e-0051-4e32-a204-11dc118726ab",
   "metadata": {},
   "outputs": [],
   "source": [
    "embed_size = 300 # how big is each word vector\n",
    "n_layers = 1\n",
    "hidden_size = 128\n",
    "fcl_size = 64\n",
    "max_features = 200000 # how many unique words to use (i.e num rows in embedding vector)\n",
    "maxlen = 120 # max number of words in a question to use\n",
    "batch_size = 512 # how many samples to process at once\n",
    "n_epochs = 10 # how many times to iterate over all samples"
   ]
  },
  {
   "cell_type": "code",
   "execution_count": 3,
   "id": "8ded582f-0048-47be-a910-a2d862e3bd41",
   "metadata": {},
   "outputs": [],
   "source": [
    "df_purged = pd.read_pickle(\"data/Movies_and_TV_5_balanced_tokenized.pkl\")"
   ]
  },
  {
   "cell_type": "markdown",
   "id": "4f200b71-6c62-4e8b-8500-06795f184f8b",
   "metadata": {},
   "source": [
    "# Balancing dataset"
   ]
  },
  {
   "cell_type": "code",
   "execution_count": 4,
   "id": "9c1be242-cecc-42f9-b06e-b92462c6ffea",
   "metadata": {},
   "outputs": [
    {
     "name": "stdout",
     "output_type": "stream",
     "text": [
      "365517\n"
     ]
    },
    {
     "data": {
      "text/plain": [
       "2.0    365517\n",
       "0.0    365517\n",
       "1.0    349638\n",
       "Name: label, dtype: int64"
      ]
     },
     "execution_count": 4,
     "metadata": {},
     "output_type": "execute_result"
    }
   ],
   "source": [
    "from sklearn.utils import resample\n",
    "# Separate positive, neutral and negative classes\n",
    "df_pos = df_purged[df_purged.label==2]\n",
    "df_neut = df_purged[df_purged.label==1]\n",
    "df_neg = df_purged[df_purged.label==0]\n",
    "n_sample = len(df_neg)\n",
    "print(n_sample)\n",
    "# Downsample majority class\n",
    "df_pos_downsampled = resample(df_pos, \n",
    "                              replace=False,    # sample without replacement\n",
    "                              n_samples=n_sample,     # to match minority class\n",
    "                              random_state=123) # reproducible results\n",
    " \n",
    "# Combine minority class with downsampled majority class\n",
    "df_purged = pd.concat([df_pos_downsampled, df_neut, df_neg])\n",
    " \n",
    "# Display new class counts\n",
    "df_purged.label.value_counts()"
   ]
  },
  {
   "cell_type": "code",
   "execution_count": 12,
   "id": "929b6684-3d3a-4b88-81c5-5467cfe1f136",
   "metadata": {},
   "outputs": [],
   "source": [
    "df_purged = df_purged[['reviewText', 'overall', 'label']].reset_index(drop=True)"
   ]
  },
  {
   "cell_type": "code",
   "execution_count": 15,
   "id": "24d8a4bc-ca42-4722-b976-36c52d3e3bf4",
   "metadata": {},
   "outputs": [],
   "source": [
    "df_purged.to_pickle(\"data/Movies_and_TV_5_balanced_tokenized.pkl\")"
   ]
  },
  {
   "cell_type": "markdown",
   "id": "64455d0e-c248-4c28-80f2-1d00731ffa47",
   "metadata": {},
   "source": [
    "# Train - test splitting"
   ]
  },
  {
   "cell_type": "code",
   "execution_count": 4,
   "id": "36709c19-e96e-45b6-b1ec-88ce83d4e941",
   "metadata": {},
   "outputs": [],
   "source": [
    "from sklearn.model_selection import train_test_split\n",
    "\n",
    "train_X, test_X, train_y, test_y = train_test_split(df_purged['reviewText'], df_purged['label'], stratify=df_purged['label'], test_size=0.20)"
   ]
  },
  {
   "cell_type": "code",
   "execution_count": 5,
   "id": "1443f54e-8f84-4b67-8d77-4ea62f224c09",
   "metadata": {},
   "outputs": [
    {
     "data": {
      "text/plain": [
       "871835                                     [soooooooo, long]\n",
       "380595     [saw, release, somewhat, complicated, largely,...\n",
       "909978     [movie, potential, really, good, film, part, l...\n",
       "21132      [saw, rob, first, movie, house, corpses, reall...\n",
       "216769                        [amazing, movie, nothing, say]\n",
       "                                 ...                        \n",
       "843010     [ordered, best, comics, unleashed, byron, alle...\n",
       "1068360                                     [thought, would]\n",
       "952256     [past, mod, shows, closed, captioned, season, ...\n",
       "86809                                     [memorys, awesome]\n",
       "476454     [danish, movie, english, subtitles, mostly, te...\n",
       "Name: reviewText, Length: 864537, dtype: object"
      ]
     },
     "execution_count": 5,
     "metadata": {},
     "output_type": "execute_result"
    }
   ],
   "source": [
    "train_X"
   ]
  },
  {
   "cell_type": "code",
   "execution_count": 6,
   "id": "6bb73698-5b1b-41a3-ae91-aef2025790c7",
   "metadata": {},
   "outputs": [
    {
     "name": "stdout",
     "output_type": "stream",
     "text": [
      "Train shape :  (864537,)\n",
      "Test shape :  (216135,)\n"
     ]
    }
   ],
   "source": [
    "print(\"Train shape : \",train_X.shape)\n",
    "print(\"Test shape : \",test_X.shape)"
   ]
  },
  {
   "cell_type": "code",
   "execution_count": 7,
   "id": "f6fac098-2558-43bb-a85c-6e5f3e89382b",
   "metadata": {},
   "outputs": [],
   "source": [
    "## Tokenize the sentences\n",
    "tokenizer = Tokenizer(num_words=max_features)\n",
    "tokenizer.fit_on_texts(list(train_X))\n",
    "train_X = tokenizer.texts_to_sequences(list(train_X))\n",
    "test_X = tokenizer.texts_to_sequences(list(test_X))\n",
    "\n",
    "## Pad the sentences \n",
    "train_X = pad_sequences(train_X, maxlen=maxlen)\n",
    "test_X = pad_sequences(test_X, maxlen=maxlen)"
   ]
  },
  {
   "cell_type": "code",
   "execution_count": 20,
   "id": "066b7126-2924-4ce7-b009-4c5201427e1b",
   "metadata": {},
   "outputs": [],
   "source": [
    "np.save(\"data/train_X_200k.npy\", train_X)\n",
    "np.save(\"data/test_X_200k.npy\", test_X)"
   ]
  },
  {
   "cell_type": "code",
   "execution_count": 22,
   "id": "f1b057cd-343b-4b46-98d2-be25c4436c3c",
   "metadata": {},
   "outputs": [],
   "source": [
    "np.save(\"data/train_y_200k.npy\", train_y.values)\n",
    "np.save(\"data/test_y_200k.npy\", test_y.values)"
   ]
  },
  {
   "cell_type": "code",
   "execution_count": 3,
   "id": "94b47944-c9a2-40ce-8ca7-7a01153ed7c9",
   "metadata": {},
   "outputs": [],
   "source": [
    "train_X = np.load(\"data/train_X.npy\")\n",
    "train_y = np.load(\"data/train_y.npy\")"
   ]
  },
  {
   "cell_type": "code",
   "execution_count": 4,
   "id": "679db5d5-9244-4bb1-82c5-48e51c6d5423",
   "metadata": {},
   "outputs": [],
   "source": [
    "test_X = np.load(\"data/test_X.npy\")\n",
    "test_y = np.load(\"data/test_y.npy\")"
   ]
  },
  {
   "cell_type": "code",
   "execution_count": 9,
   "id": "c476bdd6-97a8-44ea-aeda-f5d79b989e62",
   "metadata": {},
   "outputs": [],
   "source": [
    "def load_glove(word_index):\n",
    "    EMBEDDING_FILE = 'input/glove.840B.300d.txt'\n",
    "    def get_coefs(word,*arr): return word, np.asarray(arr, dtype='float32')[:300]\n",
    "    embeddings_index = dict(get_coefs(*o.split(\" \")) for o in open(EMBEDDING_FILE, encoding=\"utf8\"))\n",
    "    \n",
    "    all_embs = np.stack(embeddings_index.values())\n",
    "    emb_mean,emb_std = -0.005838499,0.48782197\n",
    "    embed_size = all_embs.shape[1]\n",
    "\n",
    "    nb_words = min(max_features, len(word_index)+1)\n",
    "    embedding_matrix = np.random.normal(emb_mean, emb_std, (nb_words, embed_size))\n",
    "    for word, i in word_index.items():\n",
    "        if i >= max_features: continue\n",
    "        embedding_vector = embeddings_index.get(word)\n",
    "        if embedding_vector is not None: \n",
    "            embedding_matrix[i] = embedding_vector\n",
    "        else:\n",
    "            embedding_vector = embeddings_index.get(word.capitalize())\n",
    "            if embedding_vector is not None: \n",
    "                embedding_matrix[i] = embedding_vector\n",
    "    return embedding_matrix"
   ]
  },
  {
   "cell_type": "code",
   "execution_count": 10,
   "id": "f3244c7b-2b3e-4156-a8aa-211d8c667998",
   "metadata": {},
   "outputs": [
    {
     "name": "stderr",
     "output_type": "stream",
     "text": [
      "c:\\users\\kajud\\appdata\\local\\programs\\python\\python38\\lib\\site-packages\\IPython\\core\\interactiveshell.py:3441: FutureWarning: arrays to stack must be passed as a \"sequence\" type such as list or tuple. Support for non-sequence iterables such as generators is deprecated as of NumPy 1.16 and will raise an error in the future.\n",
      "  exec(code_obj, self.user_global_ns, self.user_ns)\n"
     ]
    }
   ],
   "source": [
    "embedding_matrix = load_glove(tokenizer.word_index)"
   ]
  },
  {
   "cell_type": "code",
   "execution_count": 11,
   "id": "032474a2-f41c-48c1-81d3-ef5b5cba2e61",
   "metadata": {},
   "outputs": [
    {
     "data": {
      "text/plain": [
       "(120000, 300)"
      ]
     },
     "execution_count": 11,
     "metadata": {},
     "output_type": "execute_result"
    }
   ],
   "source": [
    "np.shape(embedding_matrix)"
   ]
  },
  {
   "cell_type": "code",
   "execution_count": 19,
   "id": "c6cf7aea-a5ca-46a1-9d33-9037712ce1fc",
   "metadata": {},
   "outputs": [],
   "source": [
    "np.save(\"embedding_matrix_200k.npy\", embedding_matrix)"
   ]
  },
  {
   "cell_type": "code",
   "execution_count": 11,
   "id": "c83ca3f5-af30-4ec1-8676-538b97ae571c",
   "metadata": {},
   "outputs": [],
   "source": [
    "embedding_matrix = np.load(\"input/embedding_matrix_200k.npy\")"
   ]
  },
  {
   "cell_type": "code",
   "execution_count": 11,
   "id": "8aabdd9f-66df-42ab-99cc-9e87fe268176",
   "metadata": {},
   "outputs": [],
   "source": [
    "class LSTM(nn.Module):\n",
    "    \n",
    "    def __init__(self):\n",
    "        super(LSTM, self).__init__()\n",
    "        self.hidden_size = hidden_size\n",
    "        drp = 0.2\n",
    "        n_classes = 3\n",
    "        self.embedding = nn.Embedding(max_features, embed_size)\n",
    "        self.embedding.weight = nn.Parameter(torch.tensor(embedding_matrix, dtype=torch.float32))\n",
    "        self.embedding.weight.requires_grad = False\n",
    "        self.lstm = nn.LSTM(embed_size, self.hidden_size, num_layers = n_layers, batch_first=True)\n",
    "        # self.linear = nn.Linear(self.hidden_size , fcl_size)\n",
    "        # self.relu = nn.ReLU()\n",
    "        self.dropout = nn.Dropout(drp)\n",
    "        self.out = nn.Linear(self.hidden_size, n_classes)\n",
    "\n",
    "\n",
    "    def forward(self, x):\n",
    "        h_embedding = self.embedding(x)\n",
    "        #_embedding = torch.squeeze(torch.unsqueeze(h_embedding, 0))\n",
    "        h_lstm, _ = self.lstm(h_embedding)\n",
    "        \n",
    "        # conc = self.relu(self.linear(h_lstm[:,-1,:]))\n",
    "        conc = h_lstm[:,-1,:]\n",
    "        conc = self.dropout(conc)\n",
    "        out = self.out(conc)\n",
    "        return out"
   ]
  },
  {
   "cell_type": "code",
   "execution_count": 12,
   "id": "945e0d26-3574-4ee5-9963-ada24ea32bbb",
   "metadata": {},
   "outputs": [],
   "source": [
    "model = LSTM()"
   ]
  },
  {
   "cell_type": "code",
   "execution_count": 13,
   "id": "104c44bd-1476-4203-8466-bdfb83ac74ea",
   "metadata": {},
   "outputs": [
    {
     "data": {
      "text/plain": [
       "LSTM(\n",
       "  (embedding): Embedding(200000, 300)\n",
       "  (lstm): LSTM(300, 128, batch_first=True)\n",
       "  (dropout): Dropout(p=0.2, inplace=False)\n",
       "  (out): Linear(in_features=128, out_features=3, bias=True)\n",
       ")"
      ]
     },
     "execution_count": 13,
     "metadata": {},
     "output_type": "execute_result"
    }
   ],
   "source": [
    "loss_fn = nn.CrossEntropyLoss(reduction='mean')\n",
    "optimizer = torch.optim.Adam(filter(lambda p: p.requires_grad, model.parameters()), lr=0.001)\n",
    "# optimizer = torch.optim.Adam(model.parameters(), lr=0.001)\n",
    "model.cuda()"
   ]
  },
  {
   "cell_type": "code",
   "execution_count": 14,
   "id": "d2c9bb59-9721-4fd9-88b5-8fdf69732900",
   "metadata": {},
   "outputs": [],
   "source": [
    "# Load train and test in CUDA Memory\n",
    "x_train = torch.tensor(train_X, dtype=torch.long).cuda()\n",
    "y_train = torch.tensor(train_y.values, dtype=torch.long).cuda()\n",
    "\n",
    "x_cv = torch.tensor(test_X, dtype=torch.long).cuda()\n",
    "y_cv = torch.tensor(test_y.values, dtype=torch.long).cuda()\n",
    "\n",
    "# Create Torch datasets\n",
    "train = torch.utils.data.TensorDataset(x_train, y_train)\n",
    "valid = torch.utils.data.TensorDataset(x_cv, y_cv)"
   ]
  },
  {
   "cell_type": "code",
   "execution_count": 15,
   "id": "2169e546-a907-4c5e-9185-7518d40faa58",
   "metadata": {},
   "outputs": [],
   "source": [
    "# Create Data Loaders\n",
    "train_loader = torch.utils.data.DataLoader(train, batch_size=batch_size, shuffle=True)\n",
    "valid_loader = torch.utils.data.DataLoader(valid, batch_size=batch_size, shuffle=False)"
   ]
  },
  {
   "cell_type": "code",
   "execution_count": 16,
   "id": "68c73f75-d431-4c2d-982b-4a4f895b00d4",
   "metadata": {},
   "outputs": [
    {
     "data": {
      "text/plain": [
       "1689"
      ]
     },
     "execution_count": 16,
     "metadata": {},
     "output_type": "execute_result"
    }
   ],
   "source": [
    "len(train_loader)"
   ]
  },
  {
   "cell_type": "code",
   "execution_count": 17,
   "id": "d73e7dfe-73c7-44aa-a7ca-d1c35666821b",
   "metadata": {},
   "outputs": [
    {
     "name": "stdout",
     "output_type": "stream",
     "text": [
      "Epoch 1/10 \t loss=0.7242 \t val_loss=0.6762  \t val_acc=0.6997  \t time=93.14s\n",
      "Epoch 2/10 \t loss=0.6644 \t val_loss=0.6584  \t val_acc=0.7090  \t time=96.35s\n",
      "Epoch 3/10 \t loss=0.6414 \t val_loss=0.6374  \t val_acc=0.7189  \t time=94.73s\n",
      "Epoch 4/10 \t loss=0.6247 \t val_loss=0.6299  \t val_acc=0.7233  \t time=94.74s\n",
      "Epoch 5/10 \t loss=0.6111 \t val_loss=0.6264  \t val_acc=0.7257  \t time=95.17s\n",
      "Epoch 6/10 \t loss=0.5997 \t val_loss=0.6247  \t val_acc=0.7264  \t time=95.85s\n",
      "Epoch 7/10 \t loss=0.5888 \t val_loss=0.6300  \t val_acc=0.7268  \t time=95.19s\n",
      "Epoch 8/10 \t loss=0.5784 \t val_loss=0.6273  \t val_acc=0.7283  \t time=93.70s\n",
      "Epoch 9/10 \t loss=0.5694 \t val_loss=0.6225  \t val_acc=0.7286  \t time=94.98s\n",
      "Epoch 10/10 \t loss=0.5601 \t val_loss=0.6289  \t val_acc=0.7286  \t time=95.15s\n"
     ]
    }
   ],
   "source": [
    "train_loss = []\n",
    "valid_loss = []\n",
    "\n",
    "for epoch in range(n_epochs):\n",
    "    start_time = time.time()\n",
    "    # Set model to train configuration\n",
    "    model.train()\n",
    "    avg_loss = 0.  \n",
    "    for i, (x_batch, y_batch) in enumerate(train_loader):\n",
    "        # Predict/Forward Pass\n",
    "        y_pred = model(x_batch)\n",
    "        # Compute loss\n",
    "        loss = loss_fn(y_pred, y_batch)\n",
    "        optimizer.zero_grad()\n",
    "        loss.backward()\n",
    "        optimizer.step()\n",
    "        avg_loss += loss.item() / len(train_loader)\n",
    "    \n",
    "    # Set model to validation configuration -Doesn't get trained here\n",
    "    model.eval()        \n",
    "    avg_val_loss = 0.\n",
    "    val_preds = np.zeros((len(x_cv),3))\n",
    "    \n",
    "    for i, (x_batch, y_batch) in enumerate(valid_loader):\n",
    "        y_pred = model(x_batch).detach()\n",
    "        avg_val_loss += loss_fn(y_pred, y_batch).item() / len(valid_loader)\n",
    "        # keep/store predictions\n",
    "        val_preds[i * batch_size:(i+1) * batch_size] =F.softmax(y_pred, dim = 1).cpu().numpy()\n",
    "    # Check Accuracy\n",
    "    val_accuracy = sum(val_preds.argmax(axis=1)==test_y)/len(test_y)\n",
    "    train_loss.append(avg_loss)\n",
    "    valid_loss.append(avg_val_loss)\n",
    "    elapsed_time = time.time() - start_time \n",
    "    print('Epoch {}/{} \\t loss={:.4f} \\t val_loss={:.4f}  \\t val_acc={:.4f}  \\t time={:.2f}s'.format(\n",
    "                epoch + 1, n_epochs, avg_loss, avg_val_loss, val_accuracy, elapsed_time))"
   ]
  },
  {
   "cell_type": "code",
   "execution_count": 18,
   "id": "2be65560-4cbf-496c-bd45-0b987fb206ed",
   "metadata": {},
   "outputs": [],
   "source": [
    "torch.save(model.state_dict(), \"lstm_glove200k_10epoch\")"
   ]
  },
  {
   "cell_type": "markdown",
   "id": "68efae95-4752-4809-8367-43d6198853b6",
   "metadata": {},
   "source": [
    "# Evaluation"
   ]
  },
  {
   "cell_type": "code",
   "execution_count": 29,
   "id": "36d14e75-3502-493c-99ff-661124e2c853",
   "metadata": {},
   "outputs": [],
   "source": [
    "def plot_graph(epochs):\n",
    "    fig = plt.figure(figsize=(6,6))\n",
    "    plt.title(\"Train/Validation Loss\")\n",
    "    plt.plot(list(np.arange(epochs) + 1) , train_loss, label='train')\n",
    "    plt.plot(list(np.arange(epochs) + 1), valid_loss, label='validation')\n",
    "    plt.xlabel('num_epochs', fontsize=12)\n",
    "    plt.ylabel('loss', fontsize=12)\n",
    "    plt.legend(loc='best')\n",
    "    plt.savefig(\"lstm_glove200k_10epoch.png\")"
   ]
  },
  {
   "cell_type": "code",
   "execution_count": 30,
   "id": "1c3b5a73-ec28-4afe-ad75-aae462970cae",
   "metadata": {},
   "outputs": [
    {
     "data": {
      "image/png": "[encoded data removed]",
      "text/plain": [
       "<Figure size 432x432 with 1 Axes>"
      ]
     },
     "metadata": {
      "needs_background": "light"
     },
     "output_type": "display_data"
    }
   ],
   "source": [
    "plot_graph(n_epochs)"
   ]
  },
  {
   "cell_type": "code",
   "execution_count": 31,
   "id": "764e08cd-722d-46dd-a36a-3a24b6736e49",
   "metadata": {},
   "outputs": [
    {
     "data": {
      "image/png": "[encoded data removed]",
      "text/plain": [
       "<Figure size 432x432 with 2 Axes>"
      ]
     },
     "metadata": {
      "needs_background": "light"
     },
     "output_type": "display_data"
    }
   ],
   "source": [
    "import scikitplot as skplt\n",
    "y_true = [x for x in test_y]\n",
    "y_pred = [x for x in val_preds.argmax(axis=1)]\n",
    "skplt.metrics.plot_confusion_matrix(\n",
    "    y_true, \n",
    "    y_pred,\n",
    "    figsize=(6,6),x_tick_rotation=90)\n",
    "plt.savefig(\"conf_matrix_200k.png\")"
   ]
  },
  {
   "cell_type": "code",
   "execution_count": 32,
   "id": "6bfd4289-8ab5-4781-8553-3a29764de934",
   "metadata": {},
   "outputs": [
    {
     "name": "stdout",
     "output_type": "stream",
     "text": [
      "Accuracy: 0.7285724200152682\n",
      "F1: [0.76001151 0.62982147 0.7928321 ]\n",
      "Precision: [0.78024147 0.62168789 0.78309427]\n",
      "Recall: [0.74080407 0.63817069 0.80281517]\n",
      "AUC: 0.887349577054018\n"
     ]
    }
   ],
   "source": [
    "from sklearn.metrics import f1_score, precision_score, recall_score, roc_auc_score, accuracy_score\n",
    "\n",
    "print('Accuracy: {}'.format(accuracy_score(y_true, y_pred)))\n",
    "print('F1: {}'.format(f1_score(y_true, y_pred, average = None)))\n",
    "print('Precision: {}'.format(precision_score(y_true, y_pred, average = None)))\n",
    "print('Recall: {}'.format(recall_score(y_true, y_pred, average = None)))\n",
    "print(f'AUC: {roc_auc_score(y_true, val_preds, multi_class=\"ovr\")}')"
   ]
  },
  {
   "cell_type": "code",
   "execution_count": 34,
   "id": "6cc7d7da-db96-4ceb-ae00-83417b93cdb3",
   "metadata": {},
   "outputs": [
    {
     "data": {
      "image/png": "[encoded data removed]",
      "text/plain": [
       "<Figure size 432x288 with 1 Axes>"
      ]
     },
     "metadata": {
      "needs_background": "light"
     },
     "output_type": "display_data"
    },
    {
     "data": {
      "image/png": "[encoded data removed]",
      "text/plain": [
       "<Figure size 432x288 with 1 Axes>"
      ]
     },
     "metadata": {
      "needs_background": "light"
     },
     "output_type": "display_data"
    },
    {
     "data": {
      "image/png": "[encoded data removed]",
      "text/plain": [
       "<Figure size 432x288 with 1 Axes>"
      ]
     },
     "metadata": {
      "needs_background": "light"
     },
     "output_type": "display_data"
    }
   ],
   "source": [
    "from sklearn.metrics import roc_curve, auc\n",
    "from sklearn.preprocessing import OneHotEncoder\n",
    "\n",
    "# Creating OneHotEncoded labels for multiclasss plots\n",
    "enc = OneHotEncoder(handle_unknown='ignore')\n",
    "y_test = np.array(enc.fit_transform(np.array(y_true).reshape(-1, 1)).todense())\n",
    "\n",
    "# Compute ROC curve and ROC area for each class\n",
    "fpr = dict()\n",
    "tpr = dict()\n",
    "roc_auc = dict()\n",
    "n_classes = 3\n",
    "for i in range(n_classes):\n",
    "    fpr[i], tpr[i], _ = roc_curve(y_test[:, i], val_preds[:, i])\n",
    "    roc_auc[i] = auc(fpr[i], tpr[i])\n",
    "\n",
    "# Plot of a ROC curve for a specific class\n",
    "classes = ['negative', 'neutral', 'positive']\n",
    "for i in range(n_classes):\n",
    "    plt.figure()\n",
    "    plt.plot(fpr[i], tpr[i], label='ROC curve (area = %0.2f)' % roc_auc[i])\n",
    "    plt.plot([0, 1], [0, 1], 'k--')\n",
    "    plt.xlim([0.0, 1.0])\n",
    "    plt.ylim([0.0, 1.05])\n",
    "    plt.xlabel('False Positive Rate')\n",
    "    plt.ylabel('True Positive Rate')\n",
    "    plt.title(f'Receiver operating characteristic example ({classes[i]} class)')\n",
    "    plt.legend(loc=\"lower right\")\n",
    "    plt.savefig(f\"auc_curves_{classes[i]}.png\")"
   ]
  },
  {
   "cell_type": "code",
   "execution_count": null,
   "id": "f1df0031-de34-434a-8448-90396d5b5870",
   "metadata": {},
   "outputs": [],
   "source": []
  }
 ],
 "metadata": {
  "kernelspec": {
   "display_name": "Python 3 (ipykernel)",
   "language": "python",
   "name": "python3"
  },
  "language_info": {
   "codemirror_mode": {
    "name": "ipython",
    "version": 3
   },
   "file_extension": ".py",
   "mimetype": "text/x-python",
   "name": "python",
   "nbconvert_exporter": "python",
   "pygments_lexer": "ipython3",
   "version": "3.8.10"
  }
 },
 "nbformat": 4,
 "nbformat_minor": 5
}
