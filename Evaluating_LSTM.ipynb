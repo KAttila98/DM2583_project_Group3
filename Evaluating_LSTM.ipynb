{
 "cells": [
  {
   "cell_type": "markdown",
   "id": "1ab307f2-3b9b-488c-a0d9-620ff69c035b",
   "metadata": {},
   "source": [
    "# Evaluating LSTM on Sports dataset"
   ]
  },
  {
   "cell_type": "code",
   "execution_count": 1,
   "id": "ad247abe-39c2-45a3-bae2-0b1752748e04",
   "metadata": {},
   "outputs": [],
   "source": [
    "# based on: https://www.kaggle.com/mlwhiz/multiclass-text-classification-pytorch/notebook\n",
    "# necessary modules\n",
    "import random\n",
    "import copy\n",
    "import time\n",
    "import pandas as pd\n",
    "import numpy as np\n",
    "import gc\n",
    "import re\n",
    "import torch\n",
    "\n",
    "from tqdm import tqdm_notebook, tnrange\n",
    "from tqdm.auto import tqdm\n",
    "\n",
    "tqdm.pandas(desc='Progress')\n",
    "from collections import Counter\n",
    "\n",
    "from nltk import word_tokenize\n",
    "\n",
    "import torch.nn as nn\n",
    "import torch.optim as optim\n",
    "import torch.nn.functional as F\n",
    "from torch.utils.data import Dataset, DataLoader\n",
    "from torch.nn.utils.rnn import pack_padded_sequence, pad_packed_sequence\n",
    "from torch.autograd import Variable\n",
    "from sklearn.metrics import f1_score\n",
    "import os \n",
    "\n",
    "from keras.preprocessing.text import Tokenizer\n",
    "from keras.preprocessing.sequence import pad_sequences\n",
    "\n",
    "# cross validation and metrics\n",
    "from sklearn.model_selection import StratifiedKFold\n",
    "from sklearn.metrics import f1_score\n",
    "from torch.optim.optimizer import Optimizer\n",
    "\n",
    "from sklearn.preprocessing import StandardScaler\n",
    "from multiprocessing import  Pool\n",
    "from functools import partial\n",
    "import numpy as np\n",
    "from sklearn.decomposition import PCA\n",
    "import torch as t\n",
    "import torch.nn as nn\n",
    "import torch.nn.functional as F\n",
    "\n",
    "import matplotlib.pyplot as plt"
   ]
  },
  {
   "cell_type": "code",
   "execution_count": 2,
   "id": "ffe259c1-bf17-4309-9ee2-fc1051fc7aa2",
   "metadata": {},
   "outputs": [],
   "source": [
    "embed_size = 300 # how big is each word vector\n",
    "n_layers = 1\n",
    "hidden_size = 128\n",
    "fcl_size = 64\n",
    "max_features = 200000 # how many unique words to use (i.e num rows in embedding vector)\n",
    "maxlen = 60 # max number of words in a question to use\n",
    "batch_size = 512 # how many samples to process at once\n",
    "n_epochs = 10 # how many times to iterate over all samples"
   ]
  },
  {
   "cell_type": "markdown",
   "id": "1af1b066-2049-42cf-aef7-8a93ab1d90f3",
   "metadata": {},
   "source": [
    "## 1. Loading evaluation dataset"
   ]
  },
  {
   "cell_type": "code",
   "execution_count": 3,
   "id": "b411d986-4b1e-4176-a4bd-39de3e90409f",
   "metadata": {},
   "outputs": [],
   "source": [
    "# Loading the evaluation data\n",
    "df_eval = pd.read_pickle(\"data/Sports_and_Outdoors_5_balanced_with_stopwords.pkl\")"
   ]
  },
  {
   "cell_type": "code",
   "execution_count": 4,
   "id": "be5d3c49-8a27-4d5c-9345-4202211fb517",
   "metadata": {},
   "outputs": [
    {
     "data": {
      "text/html": [
       "<div>\n",
       "<style scoped>\n",
       "    .dataframe tbody tr th:only-of-type {\n",
       "        vertical-align: middle;\n",
       "    }\n",
       "\n",
       "    .dataframe tbody tr th {\n",
       "        vertical-align: top;\n",
       "    }\n",
       "\n",
       "    .dataframe thead th {\n",
       "        text-align: right;\n",
       "    }\n",
       "</style>\n",
       "<table border=\"1\" class=\"dataframe\">\n",
       "  <thead>\n",
       "    <tr style=\"text-align: right;\">\n",
       "      <th></th>\n",
       "      <th>reviewText</th>\n",
       "      <th>overall</th>\n",
       "      <th>label</th>\n",
       "    </tr>\n",
       "  </thead>\n",
       "  <tbody>\n",
       "    <tr>\n",
       "      <th>0</th>\n",
       "      <td>[bike, commute, couple, of, days, each, week, ...</td>\n",
       "      <td>5.0</td>\n",
       "      <td>2.0</td>\n",
       "    </tr>\n",
       "    <tr>\n",
       "      <th>1</th>\n",
       "      <td>[have, been, rolling, for, years, now, and, fa...</td>\n",
       "      <td>5.0</td>\n",
       "      <td>2.0</td>\n",
       "    </tr>\n",
       "    <tr>\n",
       "      <th>2</th>\n",
       "      <td>[this, is, one, cool, knife, have, lot, of, kn...</td>\n",
       "      <td>5.0</td>\n",
       "      <td>2.0</td>\n",
       "    </tr>\n",
       "    <tr>\n",
       "      <th>3</th>\n",
       "      <td>[easier, to, put, together, than, my, last, tr...</td>\n",
       "      <td>4.0</td>\n",
       "      <td>2.0</td>\n",
       "    </tr>\n",
       "    <tr>\n",
       "      <th>4</th>\n",
       "      <td>[excellent, value, and, product, this, rain, f...</td>\n",
       "      <td>5.0</td>\n",
       "      <td>2.0</td>\n",
       "    </tr>\n",
       "    <tr>\n",
       "      <th>...</th>\n",
       "      <td>...</td>\n",
       "      <td>...</td>\n",
       "      <td>...</td>\n",
       "    </tr>\n",
       "    <tr>\n",
       "      <th>1022932</th>\n",
       "      <td>[nbsp, diameter, basic, specs, only, have, rid...</td>\n",
       "      <td>2.0</td>\n",
       "      <td>0.0</td>\n",
       "    </tr>\n",
       "    <tr>\n",
       "      <th>1022933</th>\n",
       "      <td>[way, too, big, to, be, practical]</td>\n",
       "      <td>2.0</td>\n",
       "      <td>0.0</td>\n",
       "    </tr>\n",
       "    <tr>\n",
       "      <th>1022934</th>\n",
       "      <td>[novelty]</td>\n",
       "      <td>1.0</td>\n",
       "      <td>0.0</td>\n",
       "    </tr>\n",
       "    <tr>\n",
       "      <th>1022935</th>\n",
       "      <td>[bought, this, for, my, son, he, used, it, ton...</td>\n",
       "      <td>2.0</td>\n",
       "      <td>0.0</td>\n",
       "    </tr>\n",
       "    <tr>\n",
       "      <th>1022936</th>\n",
       "      <td>[pros, nice, size, soft, fleecy, side, prevent...</td>\n",
       "      <td>2.0</td>\n",
       "      <td>0.0</td>\n",
       "    </tr>\n",
       "  </tbody>\n",
       "</table>\n",
       "<p>1022937 rows × 3 columns</p>\n",
       "</div>"
      ],
      "text/plain": [
       "                                                reviewText  overall  label\n",
       "0        [bike, commute, couple, of, days, each, week, ...      5.0    2.0\n",
       "1        [have, been, rolling, for, years, now, and, fa...      5.0    2.0\n",
       "2        [this, is, one, cool, knife, have, lot, of, kn...      5.0    2.0\n",
       "3        [easier, to, put, together, than, my, last, tr...      4.0    2.0\n",
       "4        [excellent, value, and, product, this, rain, f...      5.0    2.0\n",
       "...                                                    ...      ...    ...\n",
       "1022932  [nbsp, diameter, basic, specs, only, have, rid...      2.0    0.0\n",
       "1022933                 [way, too, big, to, be, practical]      2.0    0.0\n",
       "1022934                                          [novelty]      1.0    0.0\n",
       "1022935  [bought, this, for, my, son, he, used, it, ton...      2.0    0.0\n",
       "1022936  [pros, nice, size, soft, fleecy, side, prevent...      2.0    0.0\n",
       "\n",
       "[1022937 rows x 3 columns]"
      ]
     },
     "execution_count": 4,
     "metadata": {},
     "output_type": "execute_result"
    }
   ],
   "source": [
    "df_eval"
   ]
  },
  {
   "cell_type": "code",
   "execution_count": 5,
   "id": "b8660e92-4e18-4292-b4f7-15d84e83ecd1",
   "metadata": {},
   "outputs": [],
   "source": [
    "test_X = list(df_eval['reviewText'])\n",
    "test_y = df_eval['label'].values"
   ]
  },
  {
   "cell_type": "markdown",
   "id": "4588f433-19bc-4ea0-859c-faa20f57fbe6",
   "metadata": {},
   "source": [
    "## 2. Loading pre-trained LSTM and tokenizer"
   ]
  },
  {
   "cell_type": "code",
   "execution_count": 7,
   "id": "ab29eb09-7173-40d8-baea-1198165fec37",
   "metadata": {},
   "outputs": [],
   "source": [
    "import pickle\n",
    "\n",
    "# loading tokenizer used during training LSTM model\n",
    "with open('data/tokenizer_with_stoppwords.pkl', 'rb') as handle:\n",
    "    tokenizer = pickle.load(handle)"
   ]
  },
  {
   "cell_type": "code",
   "execution_count": 8,
   "id": "74edd312-294e-43ed-8694-c638bbc7a237",
   "metadata": {},
   "outputs": [],
   "source": [
    "# Converting text to sequence of numbers\n",
    "test_X = tokenizer.texts_to_sequences(list(test_X))\n",
    "\n",
    "## Pad the sentences \n",
    "test_X = pad_sequences(test_X, maxlen=maxlen)"
   ]
  },
  {
   "cell_type": "code",
   "execution_count": 9,
   "id": "8afa3fc7-0986-4ed8-9049-b884f24b74d5",
   "metadata": {},
   "outputs": [
    {
     "data": {
      "text/plain": [
       "array([[    5,  1515,   723, ...,  2447,    49, 15869],\n",
       "       [    0,     0,     0, ...,  1242,  1844,  3552],\n",
       "       [    9,   380,    12, ...,   183,     8,   184],\n",
       "       ...,\n",
       "       [    0,     0,     0, ...,     0,     0,  7666],\n",
       "       [  378,   564,   361, ...,     7,     8,  3910],\n",
       "       [10584,     1, 41988, ...,     1,  2679,  9655]])"
      ]
     },
     "execution_count": 9,
     "metadata": {},
     "output_type": "execute_result"
    }
   ],
   "source": [
    "test_X"
   ]
  },
  {
   "cell_type": "code",
   "execution_count": 10,
   "id": "eadb9e88-106d-4e43-a412-ceadb9c93f7d",
   "metadata": {},
   "outputs": [],
   "source": [
    "class LSTM(nn.Module):\n",
    "    \n",
    "    def __init__(self):\n",
    "        super(LSTM, self).__init__()\n",
    "        self.hidden_size = hidden_size\n",
    "        drp = 0.2\n",
    "        n_classes = 3\n",
    "        self.embedding = nn.Embedding(max_features, embed_size)\n",
    "        self.lstm = nn.LSTM(embed_size, self.hidden_size, num_layers = n_layers, batch_first=True)\n",
    "        self.dropout = nn.Dropout(drp)\n",
    "        self.out = nn.Linear(self.hidden_size, n_classes)\n",
    "\n",
    "\n",
    "    def forward(self, x):\n",
    "        h_embedding = self.embedding(x)\n",
    "        #_embedding = torch.squeeze(torch.unsqueeze(h_embedding, 0))\n",
    "        h_lstm, _ = self.lstm(h_embedding)\n",
    "        \n",
    "        # conc = self.relu(self.linear(h_lstm[:,-1,:]))\n",
    "        conc = h_lstm[:,-1,:]\n",
    "        conc = self.dropout(conc)\n",
    "        out = self.out(conc)\n",
    "        return out"
   ]
  },
  {
   "cell_type": "code",
   "execution_count": 11,
   "id": "be67f5cb-7c2e-4aba-ae7e-6538e523845c",
   "metadata": {},
   "outputs": [],
   "source": [
    "model = LSTM()"
   ]
  },
  {
   "cell_type": "code",
   "execution_count": 12,
   "id": "e9ec9a49-5d1a-470b-a95b-3cbc3e22b818",
   "metadata": {},
   "outputs": [
    {
     "data": {
      "text/plain": [
       "LSTM(\n",
       "  (embedding): Embedding(200000, 300)\n",
       "  (lstm): LSTM(300, 128, batch_first=True)\n",
       "  (dropout): Dropout(p=0.2, inplace=False)\n",
       "  (out): Linear(in_features=128, out_features=3, bias=True)\n",
       ")"
      ]
     },
     "execution_count": 12,
     "metadata": {},
     "output_type": "execute_result"
    }
   ],
   "source": [
    "# Loading pre-trained model for evaluation\n",
    "model.load_state_dict(torch.load(\"lstm_glove200k_10epoch_with_stoppwords\"))\n",
    "model.cuda()"
   ]
  },
  {
   "cell_type": "markdown",
   "id": "a090c21b-3357-478c-ad87-7a75d2b2eabc",
   "metadata": {},
   "source": [
    "## 3. Creating evaluation data loader"
   ]
  },
  {
   "cell_type": "code",
   "execution_count": 13,
   "id": "d67bdec5-ebc8-49db-986b-a6edb4c25eef",
   "metadata": {},
   "outputs": [],
   "source": [
    "# Load train and test in CUDA Memory\n",
    "x_cv = torch.tensor(test_X, dtype=torch.long).cuda()\n",
    "y_cv = torch.tensor(test_y, dtype=torch.long).cuda()\n",
    "\n",
    "# Create Torch datasets\n",
    "valid = torch.utils.data.TensorDataset(x_cv, y_cv)"
   ]
  },
  {
   "cell_type": "code",
   "execution_count": 14,
   "id": "8cff3754-44c7-4b21-b19c-224e18950ec5",
   "metadata": {},
   "outputs": [],
   "source": [
    "valid_loader = torch.utils.data.DataLoader(valid, batch_size=batch_size, shuffle=False)"
   ]
  },
  {
   "cell_type": "code",
   "execution_count": 15,
   "id": "0693519f-9443-4dd5-988e-f62e4efe467d",
   "metadata": {},
   "outputs": [],
   "source": [
    "val_preds = np.zeros((len(x_cv),3))\n",
    "model.eval()  \n",
    "for i, (x_batch, y_batch) in enumerate(valid_loader):\n",
    "    y_pred = model(x_batch).detach()\n",
    "    # keep/store predictions\n",
    "    val_preds[i * batch_size:(i+1) * batch_size] =F.softmax(y_pred, dim = 1).cpu().numpy()\n",
    "    \n",
    "# Check Accuracy\n",
    "val_accuracy = sum(val_preds.argmax(axis=1)==test_y)/len(test_y)"
   ]
  },
  {
   "cell_type": "code",
   "execution_count": 16,
   "id": "ea7ccf18-29df-476c-8e23-6e252bc5b983",
   "metadata": {},
   "outputs": [
    {
     "data": {
      "text/plain": [
       "0.6979647817998567"
      ]
     },
     "execution_count": 16,
     "metadata": {},
     "output_type": "execute_result"
    }
   ],
   "source": [
    "val_accuracy"
   ]
  },
  {
   "cell_type": "markdown",
   "id": "e61f69bc-e4b6-4ad9-b313-e199e1a3b655",
   "metadata": {},
   "source": [
    "## 4. Confusion matrix"
   ]
  },
  {
   "cell_type": "code",
   "execution_count": 18,
   "id": "ecd6f374-297e-49a3-b971-80dc570e7420",
   "metadata": {},
   "outputs": [
    {
     "data": {
      "image/png": "[encoded data removed]",
      "text/plain": [
       "<Figure size 432x432 with 2 Axes>"
      ]
     },
     "metadata": {
      "needs_background": "light"
     },
     "output_type": "display_data"
    }
   ],
   "source": [
    "import scikitplot as skplt\n",
    "y_true = [x for x in test_y]\n",
    "y_pred = [x for x in val_preds.argmax(axis=1)]\n",
    "skplt.metrics.plot_confusion_matrix(\n",
    "    y_true, \n",
    "    y_pred,\n",
    "    figsize=(6,6),x_tick_rotation=90)\n",
    "plt.savefig(\"conf_matrix_eval_withstopwords.png\")"
   ]
  },
  {
   "cell_type": "markdown",
   "id": "c86d21dd-bf2d-486e-9e9a-173b59601336",
   "metadata": {},
   "source": [
    "## 5. Performance metrics"
   ]
  },
  {
   "cell_type": "code",
   "execution_count": 19,
   "id": "3b0296b8-378a-41c2-9cad-012f1c8d3a51",
   "metadata": {},
   "outputs": [
    {
     "name": "stdout",
     "output_type": "stream",
     "text": [
      "Accuracy: 0.6979647817998567\n",
      "F1: [0.65884973 0.49508926 0.81187734]\n",
      "Precision: [0.63063799 0.4152098  0.9134265 ]\n",
      "Recall: [0.68970379 0.61302509 0.73064833]\n",
      "AUC: 0.8661601819697881\n"
     ]
    }
   ],
   "source": [
    "from sklearn.metrics import f1_score, precision_score, recall_score, roc_auc_score, accuracy_score\n",
    "\n",
    "print('Accuracy: {}'.format(accuracy_score(y_true, y_pred)))\n",
    "print('F1: {}'.format(f1_score(y_true, y_pred, average = None)))\n",
    "print('Precision: {}'.format(precision_score(y_true, y_pred, average = None)))\n",
    "print('Recall: {}'.format(recall_score(y_true, y_pred, average = None)))\n",
    "print(f'AUC: {roc_auc_score(y_true, val_preds, multi_class=\"ovr\")}')"
   ]
  },
  {
   "cell_type": "markdown",
   "id": "95faf2a8-6bcd-49cd-a61e-7c4a672f1694",
   "metadata": {},
   "source": [
    "## 6. Plot AUC curves for each class"
   ]
  },
  {
   "cell_type": "code",
   "execution_count": 21,
   "id": "b813d747-7b77-4bcd-b13d-b4477595e277",
   "metadata": {},
   "outputs": [
    {
     "data": {
      "image/png": "[encoded data removed]",
      "text/plain": [
       "<Figure size 432x288 with 1 Axes>"
      ]
     },
     "metadata": {
      "needs_background": "light"
     },
     "output_type": "display_data"
    },
    {
     "data": {
      "image/png": "[encoded data removed]",
      "text/plain": [
       "<Figure size 432x288 with 1 Axes>"
      ]
     },
     "metadata": {
      "needs_background": "light"
     },
     "output_type": "display_data"
    },
    {
     "data": {
      "image/png": "[encoded data removed]",
      "text/plain": [
       "<Figure size 432x288 with 1 Axes>"
      ]
     },
     "metadata": {
      "needs_background": "light"
     },
     "output_type": "display_data"
    }
   ],
   "source": [
    "from sklearn.metrics import roc_curve, auc\n",
    "from sklearn.preprocessing import OneHotEncoder\n",
    "\n",
    "# Creating OneHotEncoded labels for multiclasss plots\n",
    "enc = OneHotEncoder(handle_unknown='ignore')\n",
    "y_test = np.array(enc.fit_transform(np.array(y_true).reshape(-1, 1)).todense())\n",
    "\n",
    "# Compute ROC curve and ROC area for each class\n",
    "fpr = dict()\n",
    "tpr = dict()\n",
    "roc_auc = dict()\n",
    "n_classes = 3\n",
    "for i in range(n_classes):\n",
    "    fpr[i], tpr[i], _ = roc_curve(y_test[:, i], val_preds[:, i])\n",
    "    roc_auc[i] = auc(fpr[i], tpr[i])\n",
    "\n",
    "# Plot of a ROC curve for a specific class\n",
    "classes = ['negative', 'neutral', 'positive']\n",
    "for i in range(n_classes):\n",
    "    plt.figure()\n",
    "    plt.plot(fpr[i], tpr[i], label='ROC curve (area = %0.2f)' % roc_auc[i])\n",
    "    plt.plot([0, 1], [0, 1], 'k--')\n",
    "    plt.xlim([0.0, 1.0])\n",
    "    plt.ylim([0.0, 1.05])\n",
    "    plt.xlabel('False Positive Rate')\n",
    "    plt.ylabel('True Positive Rate')\n",
    "    plt.title(f'Receiver operating characteristic example ({classes[i]} class)')\n",
    "    plt.legend(loc=\"lower right\")\n",
    "    plt.savefig(f\"eval_auc_curves_with_stopwords_{classes[i]}.png\")"
   ]
  },
  {
   "cell_type": "code",
   "execution_count": null,
   "id": "e9d2dd18-8506-4203-b2e4-c4c762c87d73",
   "metadata": {},
   "outputs": [],
   "source": []
  }
 ],
 "metadata": {
  "kernelspec": {
   "display_name": "Python 3 (ipykernel)",
   "language": "python",
   "name": "python3"
  },
  "language_info": {
   "codemirror_mode": {
    "name": "ipython",
    "version": 3
   },
   "file_extension": ".py",
   "mimetype": "text/x-python",
   "name": "python",
   "nbconvert_exporter": "python",
   "pygments_lexer": "ipython3",
   "version": "3.8.10"
  }
 },
 "nbformat": 4,
 "nbformat_minor": 5
}
