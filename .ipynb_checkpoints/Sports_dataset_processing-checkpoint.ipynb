{
 "cells": [
  {
   "cell_type": "code",
   "execution_count": 21,
   "id": "87a41ebc-3649-424a-838b-0602ce80cf0c",
   "metadata": {},
   "outputs": [],
   "source": [
    "import pandas as pd\n",
    "import json\n",
    "from sklearn.utils import resample"
   ]
  },
  {
   "cell_type": "code",
   "execution_count": 16,
   "id": "efe6700e-5e00-45fb-aa80-36ab2deea7b2",
   "metadata": {},
   "outputs": [],
   "source": [
    "# df = pd.read_json('../Sports_and_Outdoors.json')\n",
    "# df.head()\n",
    "data = []\n",
    "with open(\"../Sports_and_Outdoors.json\", \"r\") as f:\n",
    "    while True:\n",
    "        line = f.readline()\n",
    "        if not line: break\n",
    "        \n",
    "        parsed = json.loads(line)\n",
    "        if \"reviewText\" in parsed and \"overall\" in parsed: \n",
    "            data.append([parsed[\"reviewText\"], parsed[\"overall\"]])"
   ]
  },
  {
   "cell_type": "code",
   "execution_count": 23,
   "id": "2d7bdf12-37e0-4c56-8e1a-10fefa1e500f",
   "metadata": {},
   "outputs": [
    {
     "data": {
      "text/html": [
       "<div>\n",
       "<style scoped>\n",
       "    .dataframe tbody tr th:only-of-type {\n",
       "        vertical-align: middle;\n",
       "    }\n",
       "\n",
       "    .dataframe tbody tr th {\n",
       "        vertical-align: top;\n",
       "    }\n",
       "\n",
       "    .dataframe thead th {\n",
       "        text-align: right;\n",
       "    }\n",
       "</style>\n",
       "<table border=\"1\" class=\"dataframe\">\n",
       "  <thead>\n",
       "    <tr style=\"text-align: right;\">\n",
       "      <th></th>\n",
       "      <th>reviewText</th>\n",
       "      <th>overall</th>\n",
       "    </tr>\n",
       "  </thead>\n",
       "  <tbody>\n",
       "    <tr>\n",
       "      <th>0</th>\n",
       "      <td>It was as described and fit my 6 year old gran...</td>\n",
       "      <td>5.0</td>\n",
       "    </tr>\n",
       "    <tr>\n",
       "      <th>1</th>\n",
       "      <td>very cute and went great with my Halloween cos...</td>\n",
       "      <td>4.0</td>\n",
       "    </tr>\n",
       "    <tr>\n",
       "      <th>2</th>\n",
       "      <td>This item is very cheaply made and not full li...</td>\n",
       "      <td>1.0</td>\n",
       "    </tr>\n",
       "    <tr>\n",
       "      <th>3</th>\n",
       "      <td>cute</td>\n",
       "      <td>5.0</td>\n",
       "    </tr>\n",
       "    <tr>\n",
       "      <th>4</th>\n",
       "      <td>Not as full as the picture suggests and it sme...</td>\n",
       "      <td>1.0</td>\n",
       "    </tr>\n",
       "  </tbody>\n",
       "</table>\n",
       "</div>"
      ],
      "text/plain": [
       "                                          reviewText  overall\n",
       "0  It was as described and fit my 6 year old gran...      5.0\n",
       "1  very cute and went great with my Halloween cos...      4.0\n",
       "2  This item is very cheaply made and not full li...      1.0\n",
       "3                                               cute      5.0\n",
       "4  Not as full as the picture suggests and it sme...      1.0"
      ]
     },
     "execution_count": 23,
     "metadata": {},
     "output_type": "execute_result"
    }
   ],
   "source": [
    "columns = ['reviewText', 'overall']\n",
    "df = pd.DataFrame(data, columns=columns)\n",
    "df.head()"
   ]
  },
  {
   "cell_type": "code",
   "execution_count": 24,
   "id": "8c15033a-ba2e-476d-9236-55fceec934ff",
   "metadata": {},
   "outputs": [
    {
     "data": {
      "text/plain": [
       "2.0    10390222\n",
       "0.0     1613150\n",
       "1.0      967989\n",
       "Name: label, dtype: int64"
      ]
     },
     "execution_count": 24,
     "metadata": {},
     "output_type": "execute_result"
    }
   ],
   "source": [
    "df.loc[df['overall'] <= 2., 'label'] = 0 \n",
    "df.loc[df['overall'] == 3., 'label'] = 1\n",
    "df.loc[df['overall'] >= 4., 'label'] = 2\n",
    "df.drop([\"overall\"], axis=1)\n",
    "df['label'].value_counts()"
   ]
  },
  {
   "cell_type": "code",
   "execution_count": 25,
   "id": "08a2d1d3-8818-40eb-aa96-7c4496182d8f",
   "metadata": {},
   "outputs": [
    {
     "data": {
      "text/plain": [
       "1.0    333334\n",
       "0.0    333334\n",
       "2.0    333334\n",
       "Name: label, dtype: int64"
      ]
     },
     "execution_count": 25,
     "metadata": {},
     "output_type": "execute_result"
    }
   ],
   "source": [
    "df_pos = df[df.label==2]\n",
    "df_neut = df[df.label==1]\n",
    "df_neg = df[df.label==0]\n",
    "n_sample = 333334\n",
    "\n",
    "# Downsample majority class\n",
    "df_pos_downsampled = resample(df_pos, replace=False, n_samples=n_sample, random_state=42)\n",
    "df_neut_downsampled = resample(df_neut, replace=False, n_samples=n_sample, random_state=42)\n",
    "df_neg_downsampled = resample(df_neg, replace=False, n_samples=n_sample, random_state=42)\n",
    " \n",
    "# Combine minority class with downsampled majority class\n",
    "df = pd.concat([df_pos_downsampled, df_neut_downsampled, df_neg_downsampled])\n",
    "df['label'].value_counts()"
   ]
  },
  {
   "cell_type": "code",
   "execution_count": 27,
   "id": "a8bdec33-94bc-4627-9e22-5f2185a24cff",
   "metadata": {},
   "outputs": [],
   "source": [
    "df.to_csv(\"../Sports-and-outdoors.csv\", index=False)"
   ]
  }
 ],
 "metadata": {
  "kernelspec": {
   "display_name": "Python 3 (ipykernel)",
   "language": "python",
   "name": "python3"
  },
  "language_info": {
   "codemirror_mode": {
    "name": "ipython",
    "version": 3
   },
   "file_extension": ".py",
   "mimetype": "text/x-python",
   "name": "python",
   "nbconvert_exporter": "python",
   "pygments_lexer": "ipython3",
   "version": "3.7.3"
  }
 },
 "nbformat": 4,
 "nbformat_minor": 5
}
