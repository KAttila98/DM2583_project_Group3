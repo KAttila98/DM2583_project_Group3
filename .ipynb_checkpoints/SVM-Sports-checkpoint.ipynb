{
 "cells": [
  {
   "cell_type": "code",
   "execution_count": 31,
   "id": "d94d03ac-287b-4da1-b247-24ecf80f985e",
   "metadata": {},
   "outputs": [],
   "source": [
    "from sklearn.metrics import accuracy_score, classification_report\n",
    "from numpy import mean\n",
    "from numpy import std\n",
    "from sklearn import model_selection\n",
    "from sklearn.preprocessing import LabelEncoder\n",
    "from sklearn.feature_extraction.text import TfidfVectorizer, CountVectorizer\n",
    "from sklearn import model_selection, naive_bayes\n",
    "from sklearn.svm import SVC, LinearSVC\n",
    "from sklearn.ensemble import BaggingClassifier, RandomForestClassifier\n",
    "import pandas as pd\n",
    "from sklearn.linear_model import LogisticRegression, SGDClassifier\n",
    "from sklearn.model_selection import RepeatedStratifiedKFold, cross_val_score\n",
    "import pickle\n",
    "# from thundersvm import SVC"
   ]
  },
  {
   "cell_type": "code",
   "execution_count": 4,
   "id": "7e0b21b2-edc3-4e0f-86f5-01788fa3bbb9",
   "metadata": {},
   "outputs": [],
   "source": [
    "train_pickle = \"../Movies_and_TV_5_balanced_tokenized.pkl\""
   ]
  },
  {
   "cell_type": "code",
   "execution_count": 37,
   "id": "8c341e93-d294-4f1c-96c1-e0dcd89420d2",
   "metadata": {},
   "outputs": [],
   "source": [
    "def train(df):\n",
    "    df[\"reviewText\"] = df[\"reviewText\"].apply(lambda x: \" \".join(x))\n",
    "    print(\"Done joining the text\")\n",
    "\n",
    "    train_x, test_x, train_y, test_y = model_selection.train_test_split(df['reviewText'],df['label'],test_size=0.2)\n",
    "    print(\"Done splitting\")\n",
    "    \n",
    "    tfidf = TfidfVectorizer()\n",
    "    tfidf.fit(df['reviewText'])\n",
    "    train_x_tfidf = tfidf.transform(train_x)\n",
    "    test_x_tfidf = tfidf.transform(test_x)\n",
    "    print(\"Done vectorizing\")\n",
    "    \n",
    "#     svm = LogisticRegression(solver='liblinear', C=1, random_state=42, penalty='l2',max_iter=6000)\n",
    "    svm = LinearSVC(random_state=42) # 65\n",
    "#     svm = RandomForestClassifier(n_estimators=200, max_depth=3, random_state=0)\n",
    "#     svm = SGDClassifier(loss='hinge', penalty='l2', alpha=1e-3, random_state=42, max_iter=5, tol=None) # 62\n",
    "#     svm = LogisticRegression(n_jobs=1, C=1e5)\n",
    "#     svm = SVC()\n",
    "    svm.fit(train_x_tfidf, train_y)\n",
    "    print(\"Done modeling\")\n",
    "    \n",
    "#     accuracy = svm.score(test_x_tfidf, test_y)\n",
    "#     print(\"Accuracy -> \", accuracy * 100, \"%\")\n",
    "    \n",
    "    pred_y = svm.predict(test_x_tfidf)\n",
    "    print(\"Accuracy score:\", accuracy_score(test_y, pred_y))\n",
    "    print(\"Classification report\")\n",
    "    print(classification_report(test_y, pred_y))\n",
    "\n",
    "    return svm, tfidf"
   ]
  },
  {
   "cell_type": "code",
   "execution_count": 6,
   "id": "eeeb30ab-23be-4723-b4ee-79a9c088cf00",
   "metadata": {},
   "outputs": [],
   "source": [
    "df_train = pd.read_pickle(train_pickle)"
   ]
  },
  {
   "cell_type": "code",
   "execution_count": 38,
   "id": "95213e3b-3db5-4b19-9ff8-f47d047bbfe0",
   "metadata": {},
   "outputs": [
    {
     "name": "stdout",
     "output_type": "stream",
     "text": [
      "Done joining the text\n",
      "Done splitting\n",
      "Done vectorizing\n",
      "Done modeling\n",
      "Accuracy score: 0.6896708075971036\n",
      "Classification report\n",
      "              precision    recall  f1-score   support\n",
      "\n",
      "         0.0       0.72      0.73      0.73     73180\n",
      "         1.0       0.60      0.55      0.57     69786\n",
      "         2.0       0.73      0.79      0.76     73169\n",
      "\n",
      "    accuracy                           0.69    216135\n",
      "   macro avg       0.68      0.69      0.69    216135\n",
      "weighted avg       0.69      0.69      0.69    216135\n",
      "\n",
      "--- 160.81500840187073 seconds ---\n"
     ]
    }
   ],
   "source": [
    "import time\n",
    "start_time = time.time()\n",
    "svm, tfidf = train(df_train)\n",
    "print(\"--- %s seconds ---\" % (time.time() - start_time))"
   ]
  },
  {
   "cell_type": "code",
   "execution_count": 40,
   "id": "e6c028c1-c6b4-4c4a-bee5-d4995673f716",
   "metadata": {},
   "outputs": [],
   "source": [
    "with open(\"../movie-linearsvc-tfidf.pkl\", \"wb\") as handle:\n",
    "    pickle.dump([svm, tfidf], handle, protocol=pickle.HIGHEST_PROTOCOL)"
   ]
  }
 ],
 "metadata": {
  "kernelspec": {
   "display_name": "Python 3 (ipykernel)",
   "language": "python",
   "name": "python3"
  },
  "language_info": {
   "codemirror_mode": {
    "name": "ipython",
    "version": 3
   },
   "file_extension": ".py",
   "mimetype": "text/x-python",
   "name": "python",
   "nbconvert_exporter": "python",
   "pygments_lexer": "ipython3",
   "version": "3.7.3"
  }
 },
 "nbformat": 4,
 "nbformat_minor": 5
}
