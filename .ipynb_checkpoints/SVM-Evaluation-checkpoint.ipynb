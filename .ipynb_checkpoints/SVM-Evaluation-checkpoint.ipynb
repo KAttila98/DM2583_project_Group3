{
 "cells": [
  {
   "cell_type": "code",
   "execution_count": 53,
   "id": "80e0d7d0-7835-48ed-adf1-ec6c5d310c8c",
   "metadata": {},
   "outputs": [],
   "source": [
    "import pandas as pd\n",
    "import pickle\n",
    "from sklearn.feature_extraction.text import TfidfVectorizer\n",
    "from sklearn.metrics import accuracy_score, classification_report\n",
    "import scikitplot as skplt\n",
    "import matplotlib.pyplot as plt\n",
    "import numpy as np"
   ]
  },
  {
   "cell_type": "code",
   "execution_count": 11,
   "id": "907c9316-076f-4fd2-befe-21f7bb4f9d38",
   "metadata": {},
   "outputs": [
    {
     "data": {
      "text/plain": [
       "[LinearSVC(random_state=42), TfidfVectorizer()]"
      ]
     },
     "execution_count": 11,
     "metadata": {},
     "output_type": "execute_result"
    }
   ],
   "source": [
    "with open(\"../movie-linearsvc-tfidf.pkl\", \"rb\") as f:\n",
    "    model = pickle.load(f)"
   ]
  },
  {
   "cell_type": "code",
   "execution_count": 23,
   "id": "1f2229d2-d89d-4889-bef9-e17ff700f68e",
   "metadata": {},
   "outputs": [],
   "source": [
    "[svm, tfidf] = model"
   ]
  },
  {
   "cell_type": "code",
   "execution_count": 13,
   "id": "df53228f-3568-428b-b36a-d6bf21c715f7",
   "metadata": {},
   "outputs": [
    {
     "data": {
      "text/html": [
       "<div>\n",
       "<style scoped>\n",
       "    .dataframe tbody tr th:only-of-type {\n",
       "        vertical-align: middle;\n",
       "    }\n",
       "\n",
       "    .dataframe tbody tr th {\n",
       "        vertical-align: top;\n",
       "    }\n",
       "\n",
       "    .dataframe thead th {\n",
       "        text-align: right;\n",
       "    }\n",
       "</style>\n",
       "<table border=\"1\" class=\"dataframe\">\n",
       "  <thead>\n",
       "    <tr style=\"text-align: right;\">\n",
       "      <th></th>\n",
       "      <th>reviewText</th>\n",
       "      <th>overall</th>\n",
       "      <th>label</th>\n",
       "    </tr>\n",
       "  </thead>\n",
       "  <tbody>\n",
       "    <tr>\n",
       "      <th>0</th>\n",
       "      <td>[saved, wall, important, dart, tips, starting,...</td>\n",
       "      <td>5.0</td>\n",
       "      <td>2.0</td>\n",
       "    </tr>\n",
       "    <tr>\n",
       "      <th>1</th>\n",
       "      <td>[bought, similar, price, great, value, match, ...</td>\n",
       "      <td>4.0</td>\n",
       "      <td>2.0</td>\n",
       "    </tr>\n",
       "    <tr>\n",
       "      <th>2</th>\n",
       "      <td>[great, looking, ball, advertised]</td>\n",
       "      <td>5.0</td>\n",
       "      <td>2.0</td>\n",
       "    </tr>\n",
       "    <tr>\n",
       "      <th>3</th>\n",
       "      <td>[great, gift, coworker]</td>\n",
       "      <td>5.0</td>\n",
       "      <td>2.0</td>\n",
       "    </tr>\n",
       "    <tr>\n",
       "      <th>4</th>\n",
       "      <td>[love]</td>\n",
       "      <td>5.0</td>\n",
       "      <td>2.0</td>\n",
       "    </tr>\n",
       "  </tbody>\n",
       "</table>\n",
       "</div>"
      ],
      "text/plain": [
       "                                          reviewText  overall  label\n",
       "0  [saved, wall, important, dart, tips, starting,...      5.0    2.0\n",
       "1  [bought, similar, price, great, value, match, ...      4.0    2.0\n",
       "2                 [great, looking, ball, advertised]      5.0    2.0\n",
       "3                            [great, gift, coworker]      5.0    2.0\n",
       "4                                             [love]      5.0    2.0"
      ]
     },
     "execution_count": 13,
     "metadata": {},
     "output_type": "execute_result"
    }
   ],
   "source": [
    "df = pd.read_pickle(\"../Sports_prep_tokenized.pkl\")\n",
    "df.head()"
   ]
  },
  {
   "cell_type": "code",
   "execution_count": 24,
   "id": "b7216de3-512b-46df-b77a-05fcbe1ceaf9",
   "metadata": {},
   "outputs": [],
   "source": [
    "df[\"text\"] = df[\"reviewText\"].apply(lambda x: \" \".join(x))\n",
    "\n",
    "X = tfidf.transform(df[\"text\"])\n",
    "Y = df[\"label\"]"
   ]
  },
  {
   "cell_type": "code",
   "execution_count": 25,
   "id": "4e08b2d4-e298-4a99-ba07-7ec370ddbef3",
   "metadata": {},
   "outputs": [
    {
     "name": "stdout",
     "output_type": "stream",
     "text": [
      "Accuracy score: 0.572532\n",
      "Classification report\n",
      "              precision    recall  f1-score   support\n",
      "\n",
      "         0.0       0.60      0.59      0.59    333334\n",
      "         1.0       0.48      0.47      0.48    333334\n",
      "         2.0       0.63      0.65      0.64    333332\n",
      "\n",
      "    accuracy                           0.57   1000000\n",
      "   macro avg       0.57      0.57      0.57   1000000\n",
      "weighted avg       0.57      0.57      0.57   1000000\n",
      "\n"
     ]
    }
   ],
   "source": [
    "pred_y = svm.predict(X)\n",
    "print(\"Accuracy score:\", accuracy_score(Y, pred_y))\n",
    "print(\"Classification report\")\n",
    "print(classification_report(Y, pred_y))"
   ]
  },
  {
   "cell_type": "code",
   "execution_count": 30,
   "id": "1b5eeba5-ba9b-4c81-84eb-cd87ccb15ad0",
   "metadata": {},
   "outputs": [
    {
     "data": {
      "image/png": "[encoded data removed]",
      "text/plain": [
       "<Figure size 432x432 with 2 Axes>"
      ]
     },
     "metadata": {
      "needs_background": "light"
     },
     "output_type": "display_data"
    }
   ],
   "source": [
    "confusion_plot = skplt.metrics.plot_confusion_matrix(Y, pred_y, figsize=(6,6), x_tick_rotation=90)"
   ]
  },
  {
   "cell_type": "code",
   "execution_count": 63,
   "id": "6c830f8d-fd52-49c2-9047-1c3364fa63c2",
   "metadata": {},
   "outputs": [
    {
     "name": "stdout",
     "output_type": "stream",
     "text": [
      "Coefficients\n",
      "[[-8.16369863e-01 -4.52159572e-01 -4.25872485e-01 ...  2.74110405e-01\n",
      "   0.00000000e+00  0.00000000e+00]\n",
      " [-6.40183138e-01 -1.15345850e+00 -9.37184842e-01 ... -1.21865425e-01\n",
      "  -8.67361738e-19  0.00000000e+00]\n",
      " [ 1.29777477e+00  1.29769285e+00  1.21734125e+00 ...  3.46944695e-18\n",
      "   0.00000000e+00  0.00000000e+00]]\n",
      "Intercepts\n",
      "[-0.34113506 -0.26016031 -0.43607068]\n",
      "Classes\n",
      "[0. 1. 2.]\n",
      "Features\n",
      "307845\n"
     ]
    }
   ],
   "source": [
    "print(\"Coefficients\")\n",
    "print(svm.coef_)\n",
    "print(\"Intercepts\")\n",
    "print(svm.intercept_)\n",
    "print(\"Classes\")\n",
    "print(svm.classes_)\n",
    "print(\"Features\")\n",
    "print(svm.n_features_in_)"
   ]
  }
 ],
 "metadata": {
  "kernelspec": {
   "display_name": "Python 3 (ipykernel)",
   "language": "python",
   "name": "python3"
  },
  "language_info": {
   "codemirror_mode": {
    "name": "ipython",
    "version": 3
   },
   "file_extension": ".py",
   "mimetype": "text/x-python",
   "name": "python",
   "nbconvert_exporter": "python",
   "pygments_lexer": "ipython3",
   "version": "3.7.3"
  }
 },
 "nbformat": 4,
 "nbformat_minor": 5
}
