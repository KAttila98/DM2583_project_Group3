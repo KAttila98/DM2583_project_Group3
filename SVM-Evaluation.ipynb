{
 "cells": [
  {
   "cell_type": "code",
   "execution_count": 1,
   "id": "80e0d7d0-7835-48ed-adf1-ec6c5d310c8c",
   "metadata": {},
   "outputs": [],
   "source": [
    "import pandas as pd\n",
    "import pickle\n",
    "from sklearn.feature_extraction.text import TfidfVectorizer\n",
    "from sklearn.metrics import accuracy_score, classification_report\n",
    "import scikitplot as skplt\n",
    "import matplotlib.pyplot as plt\n",
    "import numpy as np"
   ]
  },
  {
   "cell_type": "code",
   "execution_count": 2,
   "id": "907c9316-076f-4fd2-befe-21f7bb4f9d38",
   "metadata": {},
   "outputs": [],
   "source": [
    "with open(\"../movie-linearsvc-tfidf-alt.pkl\", \"rb\") as f:\n",
    "    model = pickle.load(f)"
   ]
  },
  {
   "cell_type": "code",
   "execution_count": 3,
   "id": "1f2229d2-d89d-4889-bef9-e17ff700f68e",
   "metadata": {},
   "outputs": [],
   "source": [
    "[svm, tfidf] = model"
   ]
  },
  {
   "cell_type": "code",
   "execution_count": 4,
   "id": "df53228f-3568-428b-b36a-d6bf21c715f7",
   "metadata": {},
   "outputs": [
    {
     "data": {
      "text/html": [
       "<div>\n",
       "<style scoped>\n",
       "    .dataframe tbody tr th:only-of-type {\n",
       "        vertical-align: middle;\n",
       "    }\n",
       "\n",
       "    .dataframe tbody tr th {\n",
       "        vertical-align: top;\n",
       "    }\n",
       "\n",
       "    .dataframe thead th {\n",
       "        text-align: right;\n",
       "    }\n",
       "</style>\n",
       "<table border=\"1\" class=\"dataframe\">\n",
       "  <thead>\n",
       "    <tr style=\"text-align: right;\">\n",
       "      <th></th>\n",
       "      <th>reviewText</th>\n",
       "      <th>overall</th>\n",
       "      <th>label</th>\n",
       "    </tr>\n",
       "  </thead>\n",
       "  <tbody>\n",
       "    <tr>\n",
       "      <th>0</th>\n",
       "      <td>[has, saved, my, wall, and, more, important, m...</td>\n",
       "      <td>5.0</td>\n",
       "      <td>2.0</td>\n",
       "    </tr>\n",
       "    <tr>\n",
       "      <th>1</th>\n",
       "      <td>[bought, of, these, at, similar, price, and, t...</td>\n",
       "      <td>4.0</td>\n",
       "      <td>2.0</td>\n",
       "    </tr>\n",
       "    <tr>\n",
       "      <th>2</th>\n",
       "      <td>[great, looking, ball, as, advertised]</td>\n",
       "      <td>5.0</td>\n",
       "      <td>2.0</td>\n",
       "    </tr>\n",
       "    <tr>\n",
       "      <th>3</th>\n",
       "      <td>[great, gift, for, coworker]</td>\n",
       "      <td>5.0</td>\n",
       "      <td>2.0</td>\n",
       "    </tr>\n",
       "    <tr>\n",
       "      <th>4</th>\n",
       "      <td>[love, it]</td>\n",
       "      <td>5.0</td>\n",
       "      <td>2.0</td>\n",
       "    </tr>\n",
       "  </tbody>\n",
       "</table>\n",
       "</div>"
      ],
      "text/plain": [
       "                                          reviewText  overall  label\n",
       "0  [has, saved, my, wall, and, more, important, m...      5.0    2.0\n",
       "1  [bought, of, these, at, similar, price, and, t...      4.0    2.0\n",
       "2             [great, looking, ball, as, advertised]      5.0    2.0\n",
       "3                       [great, gift, for, coworker]      5.0    2.0\n",
       "4                                         [love, it]      5.0    2.0"
      ]
     },
     "execution_count": 4,
     "metadata": {},
     "output_type": "execute_result"
    }
   ],
   "source": [
    "df = pd.read_pickle(\"../Sports_and_Outdoors_5_balanced_with_stopwords.pkl\")\n",
    "df.head()"
   ]
  },
  {
   "cell_type": "code",
   "execution_count": 5,
   "id": "b7216de3-512b-46df-b77a-05fcbe1ceaf9",
   "metadata": {},
   "outputs": [],
   "source": [
    "df[\"text\"] = df[\"reviewText\"].apply(lambda x: \" \".join(x))\n",
    "\n",
    "X = tfidf.transform(df[\"text\"])\n",
    "Y = df[\"label\"]"
   ]
  },
  {
   "cell_type": "code",
   "execution_count": 6,
   "id": "4e08b2d4-e298-4a99-ba07-7ec370ddbef3",
   "metadata": {},
   "outputs": [
    {
     "name": "stdout",
     "output_type": "stream",
     "text": [
      "Accuracy score: 0.759189\n",
      "Classification report\n",
      "              precision    recall  f1-score   support\n",
      "\n",
      "         0.0       0.75      0.79      0.77    333334\n",
      "         1.0       0.69      0.64      0.66    333334\n",
      "         2.0       0.83      0.85      0.84    333332\n",
      "\n",
      "    accuracy                           0.76   1000000\n",
      "   macro avg       0.76      0.76      0.76   1000000\n",
      "weighted avg       0.76      0.76      0.76   1000000\n",
      "\n"
     ]
    }
   ],
   "source": [
    "pred_y = svm.predict(X)\n",
    "print(\"Accuracy score:\", accuracy_score(Y, pred_y))\n",
    "print(\"Classification report\")\n",
    "print(classification_report(Y, pred_y))"
   ]
  },
  {
   "cell_type": "code",
   "execution_count": 7,
   "id": "1b5eeba5-ba9b-4c81-84eb-cd87ccb15ad0",
   "metadata": {},
   "outputs": [
    {
     "data": {
      "image/png": "[encoded data removed]",
      "text/plain": [
       "<Figure size 432x432 with 2 Axes>"
      ]
     },
     "metadata": {
      "needs_background": "light"
     },
     "output_type": "display_data"
    }
   ],
   "source": [
    "confusion_plot = skplt.metrics.plot_confusion_matrix(Y, pred_y, figsize=(6,6), x_tick_rotation=90)"
   ]
  },
  {
   "cell_type": "code",
   "execution_count": 8,
   "id": "6c830f8d-fd52-49c2-9047-1c3364fa63c2",
   "metadata": {},
   "outputs": [
    {
     "name": "stdout",
     "output_type": "stream",
     "text": [
      "Coefficients\n",
      "[[-0.32246573 -0.50029695  0.11490969 ...  0.         -0.4884383\n",
      "  -0.02342097]\n",
      " [-0.0896397  -0.35575546 -0.22477569 ...  0.         -0.44791634\n",
      "   0.14892695]\n",
      " [ 0.50555536  0.9647345   0.31464754 ...  0.          0.94993558\n",
      "  -0.12813795]]\n",
      "Intercepts\n",
      "[-0.34926804 -0.32999752 -0.37766813]\n",
      "Classes\n",
      "[0. 1. 2.]\n",
      "Features\n",
      "125534\n"
     ]
    }
   ],
   "source": [
    "print(\"Coefficients\")\n",
    "print(svm.coef_)\n",
    "print(\"Intercepts\")\n",
    "print(svm.intercept_)\n",
    "print(\"Classes\")\n",
    "print(svm.classes_)\n",
    "print(\"Features\")\n",
    "print(svm.n_features_in_)"
   ]
  }
 ],
 "metadata": {
  "kernelspec": {
   "display_name": "Python 3 (ipykernel)",
   "language": "python",
   "name": "python3"
  },
  "language_info": {
   "codemirror_mode": {
    "name": "ipython",
    "version": 3
   },
   "file_extension": ".py",
   "mimetype": "text/x-python",
   "name": "python",
   "nbconvert_exporter": "python",
   "pygments_lexer": "ipython3",
   "version": "3.7.3"
  }
 },
 "nbformat": 4,
 "nbformat_minor": 5
}
