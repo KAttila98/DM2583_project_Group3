{
 "cells": [
  {
   "cell_type": "code",
   "execution_count": 1,
   "id": "96a11c60-9d8a-448a-97ff-46c3f47b6a8b",
   "metadata": {},
   "outputs": [],
   "source": [
    "# based on: https://www.kaggle.com/mlwhiz/multiclass-text-classification-pytorch/notebook\n",
    "import random\n",
    "import copy\n",
    "import time\n",
    "import pandas as pd\n",
    "import numpy as np\n",
    "import gc\n",
    "import re\n",
    "import torch\n",
    "\n",
    "#import spacy\n",
    "from tqdm import tqdm_notebook, tnrange\n",
    "from tqdm.auto import tqdm\n",
    "\n",
    "tqdm.pandas(desc='Progress')\n",
    "from collections import Counter\n",
    "\n",
    "from nltk import word_tokenize\n",
    "\n",
    "import torch.nn as nn\n",
    "import torch.optim as optim\n",
    "import torch.nn.functional as F\n",
    "from torch.utils.data import Dataset, DataLoader\n",
    "from torch.nn.utils.rnn import pack_padded_sequence, pad_packed_sequence\n",
    "from torch.autograd import Variable\n",
    "from sklearn.metrics import f1_score\n",
    "import os \n",
    "\n",
    "from keras.preprocessing.text import Tokenizer\n",
    "from keras.preprocessing.sequence import pad_sequences\n",
    "\n",
    "# cross validation and metrics\n",
    "from sklearn.model_selection import StratifiedKFold\n",
    "from sklearn.metrics import f1_score\n",
    "from torch.optim.optimizer import Optimizer\n",
    "\n",
    "from sklearn.preprocessing import StandardScaler\n",
    "from multiprocessing import  Pool\n",
    "from functools import partial\n",
    "import numpy as np\n",
    "from sklearn.decomposition import PCA\n",
    "import torch as t\n",
    "import torch.nn as nn\n",
    "import torch.nn.functional as F\n",
    "\n",
    "import matplotlib.pyplot as plt"
   ]
  },
  {
   "cell_type": "code",
   "execution_count": 2,
   "id": "8850e90f-b7e8-4dd5-9756-1c1f29bbae7b",
   "metadata": {},
   "outputs": [],
   "source": [
    "embed_size = 300 # how big is each word vector\n",
    "n_layers = 1\n",
    "hidden_size = 128\n",
    "fcl_size = 64\n",
    "max_features = 200000 # how many unique words to use (i.e num rows in embedding vector)\n",
    "maxlen = 60 # max number of words in a question to use\n",
    "batch_size = 512 # how many samples to process at once\n",
    "n_epochs = 10 # how many times to iterate over all samples"
   ]
  },
  {
   "cell_type": "code",
   "execution_count": 3,
   "id": "fc05e2d7-2432-435c-90df-eb67177fb450",
   "metadata": {},
   "outputs": [],
   "source": [
    "review_text = \"It's the best movie I've ever seen!!! <3\""
   ]
  },
  {
   "cell_type": "code",
   "execution_count": 4,
   "id": "b071a646-3096-4124-b687-e46007e270ae",
   "metadata": {},
   "outputs": [],
   "source": [
    "contraction_dict = {\"ain't\": \"is not\", \"aren't\": \"are not\",\"can't\": \"cannot\", \"'cause\": \"because\", \"could've\": \"could have\", \"couldn't\": \"could not\", \"didn't\": \"did not\",  \"doesn't\": \"does not\", \"don't\": \"do not\", \"hadn't\": \"had not\", \"hasn't\": \"has not\", \"haven't\": \"have not\", \"he'd\": \"he would\",\"he'll\": \"he will\", \"he's\": \"he is\", \"how'd\": \"how did\", \"how'd'y\": \"how do you\", \"how'll\": \"how will\", \"how's\": \"how is\",  \"I'd\": \"I would\", \"I'd've\": \"I would have\", \"I'll\": \"I will\", \"I'll've\": \"I will have\",\"I'm\": \"I am\", \"I've\": \"I have\", \"i'd\": \"i would\", \"i'd've\": \"i would have\", \"i'll\": \"i will\",  \"i'll've\": \"i will have\",\"i'm\": \"i am\", \"i've\": \"i have\", \"isn't\": \"is not\", \"it'd\": \"it would\", \"it'd've\": \"it would have\", \"it'll\": \"it will\", \"it'll've\": \"it will have\",\"it's\": \"it is\", \"let's\": \"let us\", \"ma'am\": \"madam\", \"mayn't\": \"may not\", \"might've\": \"might have\",\"mightn't\": \"might not\",\"mightn't've\": \"might not have\", \"must've\": \"must have\", \"mustn't\": \"must not\", \"mustn't've\": \"must not have\", \"needn't\": \"need not\", \"needn't've\": \"need not have\",\"o'clock\": \"of the clock\", \"oughtn't\": \"ought not\", \"oughtn't've\": \"ought not have\", \"shan't\": \"shall not\", \"sha'n't\": \"shall not\", \"shan't've\": \"shall not have\", \"she'd\": \"she would\", \"she'd've\": \"she would have\", \"she'll\": \"she will\", \"she'll've\": \"she will have\", \"she's\": \"she is\", \"should've\": \"should have\", \"shouldn't\": \"should not\", \"shouldn't've\": \"should not have\", \"so've\": \"so have\",\"so's\": \"so as\", \"this's\": \"this is\",\"that'd\": \"that would\", \"that'd've\": \"that would have\", \"that's\": \"that is\", \"there'd\": \"there would\", \"there'd've\": \"there would have\", \"there's\": \"there is\", \"here's\": \"here is\",\"they'd\": \"they would\", \"they'd've\": \"they would have\", \"they'll\": \"they will\", \"they'll've\": \"they will have\", \"they're\": \"they are\", \"they've\": \"they have\", \"to've\": \"to have\", \"wasn't\": \"was not\", \"we'd\": \"we would\", \"we'd've\": \"we would have\", \"we'll\": \"we will\", \"we'll've\": \"we will have\", \"we're\": \"we are\", \"we've\": \"we have\", \"weren't\": \"were not\", \"what'll\": \"what will\", \"what'll've\": \"what will have\", \"what're\": \"what are\",  \"what's\": \"what is\", \"what've\": \"what have\", \"when's\": \"when is\", \"when've\": \"when have\", \"where'd\": \"where did\", \"where's\": \"where is\", \"where've\": \"where have\", \"who'll\": \"who will\", \"who'll've\": \"who will have\", \"who's\": \"who is\", \"who've\": \"who have\", \"why's\": \"why is\", \"why've\": \"why have\", \"will've\": \"will have\", \"won't\": \"will not\", \"won't've\": \"will not have\", \"would've\": \"would have\", \"wouldn't\": \"would not\", \"wouldn't've\": \"would not have\", \"y'all\": \"you all\", \"y'all'd\": \"you all would\",\"y'all'd've\": \"you all would have\",\"y'all're\": \"you all are\",\"y'all've\": \"you all have\",\"you'd\": \"you would\", \"you'd've\": \"you would have\", \"you'll\": \"you will\", \"you'll've\": \"you will have\", \"you're\": \"you are\", \"you've\": \"you have\"}\n",
    "def _get_contractions(contraction_dict):\n",
    "    contraction_re = re.compile('(%s)' % '|'.join(contraction_dict.keys()))\n",
    "    return contraction_dict, contraction_re\n",
    "contractions, contractions_re = _get_contractions(contraction_dict)\n",
    "def replace_contractions(text):\n",
    "    def replace(match):\n",
    "        return contractions[match.group(0)]\n",
    "    return contractions_re.sub(replace, text)"
   ]
  },
  {
   "cell_type": "code",
   "execution_count": 10,
   "id": "16e0798f-8be3-4fac-a951-5d56645e0c45",
   "metadata": {},
   "outputs": [],
   "source": [
    "import re\n",
    "import string\n",
    "\n",
    "# remove emojis: https://stackoverflow.com/questions/33404752/removing-emojis-from-a-string-in-python\n",
    "def deEmojify(text):\n",
    "    regrex_pattern = re.compile(pattern = \"[\"\n",
    "        u\"\\U0001F600-\\U0001F64F\"  # emoticons\n",
    "        u\"\\U0001F300-\\U0001F5FF\"  # symbols & pictographs\n",
    "        u\"\\U0001F680-\\U0001F6FF\"  # transport & map symbols\n",
    "        u\"\\U0001F1E0-\\U0001F1FF\"  # flags (iOS)\n",
    "                           \"]+\", flags = re.UNICODE)\n",
    "    return regrex_pattern.sub(r'',text)\n",
    "\n",
    "# data preprocessing\n",
    "def preprocess_text(text):\n",
    "    \n",
    "    # converting text to lowercase\n",
    "    text = text.lower()\n",
    "    # stop_words = set(stopwords.words('english'))\n",
    "    text = replace_contractions(text)\n",
    "    # replacing url-s with the word 'url'\n",
    "    text = re.sub('((www\\.[^\\s]+)|(https?://[^\\s]+))','', text)\n",
    "    # replacing usernames-s with the word 'user'\n",
    "    text = re.sub('@[^\\s]+','', text)\n",
    "    # remove HTML tags\n",
    "    text = re.sub('<.*?>', '', text)\n",
    "    # remove punctuation marks\n",
    "    text = re.sub('[%s]' % re.escape(string.punctuation), ' ', text)\n",
    "    # remove multiple spaces\n",
    "    text = re.sub(' +',' ', text)\n",
    "    # replacing numbers with the word 'number'\n",
    "    text = re.sub(r'\\w*\\d+\\w*', '', text)\n",
    "    \n",
    "    tokens = word_tokenize(text)\n",
    "    \n",
    "    # cleaned_text = [w for w in tokens if not w.lower() in stop_words]\n",
    "    \n",
    "    cleaned_text = [w for w in tokens if len(w)>=2]\n",
    "\n",
    "    # text = deEmojify(text)\n",
    "    \n",
    "    return cleaned_text"
   ]
  },
  {
   "cell_type": "code",
   "execution_count": 57,
   "id": "f2150992-1c84-4dae-bb85-5420473dd1e9",
   "metadata": {},
   "outputs": [
    {
     "name": "stdout",
     "output_type": "stream",
     "text": [
      "Preprocessed and tokenized input: ['it', 'is', 'the', 'best', 'movie', 'have', 'ever', 'seen']\n"
     ]
    }
   ],
   "source": [
    "text_prep = preprocess_text(review_text)\n",
    "print(f\"Preprocessed and tokenized input: {text_prep}\")"
   ]
  },
  {
   "cell_type": "code",
   "execution_count": 55,
   "id": "706e35d5-f129-4510-b89f-424060fe7b82",
   "metadata": {},
   "outputs": [
    {
     "name": "stdout",
     "output_type": "stream",
     "text": [
      "Pre-processed and tokenized input: [[['it', 'is', 'the', 'best', 'movie', 'have', 'ever', 'seen']]]\n"
     ]
    }
   ],
   "source": [
    "text_prep = [text_prep]"
   ]
  },
  {
   "cell_type": "code",
   "execution_count": 13,
   "id": "eae6eed7-b8bc-4dad-a821-1b35945c2afd",
   "metadata": {},
   "outputs": [],
   "source": [
    "import pickle\n",
    "# loading tokenizer\n",
    "with open('input/tokenizer_with_stoppwords.pkl', 'rb') as handle:\n",
    "    tokenizer = pickle.load(handle)"
   ]
  },
  {
   "cell_type": "code",
   "execution_count": 25,
   "id": "249113b7-1ccc-400b-b77c-42dfb152ff2d",
   "metadata": {},
   "outputs": [],
   "source": [
    "test_X = tokenizer.texts_to_sequences(list(text_prep))\n",
    "\n",
    "## Pad the sentences \n",
    "test_X = pad_sequences(test_X, maxlen=maxlen)"
   ]
  },
  {
   "cell_type": "code",
   "execution_count": 27,
   "id": "4146f2fd-5e02-4874-871d-86dd879eeeb3",
   "metadata": {},
   "outputs": [
    {
     "data": {
      "text/plain": [
       "(1, 60)"
      ]
     },
     "execution_count": 27,
     "metadata": {},
     "output_type": "execute_result"
    }
   ],
   "source": [
    "test_X.shape"
   ]
  },
  {
   "cell_type": "code",
   "execution_count": 28,
   "id": "f433751d-e875-4cc8-a8e8-6bbe3412f7dc",
   "metadata": {},
   "outputs": [],
   "source": [
    "class LSTM(nn.Module):\n",
    "    \n",
    "    def __init__(self):\n",
    "        super(LSTM, self).__init__()\n",
    "        self.hidden_size = hidden_size\n",
    "        drp = 0.2\n",
    "        n_classes = 3\n",
    "        self.embedding = nn.Embedding(max_features, embed_size)\n",
    "        # self.embedding.weight = nn.Parameter(torch.tensor(embedding_matrix, dtype=torch.float32))\n",
    "        # self.embedding.weight.requires_grad = False\n",
    "        self.lstm = nn.LSTM(embed_size, self.hidden_size, num_layers = n_layers, batch_first=True)\n",
    "        # self.linear = nn.Linear(self.hidden_size , fcl_size)\n",
    "        # self.relu = nn.ReLU()\n",
    "        self.dropout = nn.Dropout(drp)\n",
    "        self.out = nn.Linear(self.hidden_size, n_classes)\n",
    "\n",
    "\n",
    "    def forward(self, x):\n",
    "        h_embedding = self.embedding(x)\n",
    "        #_embedding = torch.squeeze(torch.unsqueeze(h_embedding, 0))\n",
    "        h_lstm, _ = self.lstm(h_embedding)\n",
    "        \n",
    "        # conc = self.relu(self.linear(h_lstm[:,-1,:]))\n",
    "        conc = h_lstm[:,-1,:]\n",
    "        conc = self.dropout(conc)\n",
    "        out = self.out(conc)\n",
    "        return out"
   ]
  },
  {
   "cell_type": "code",
   "execution_count": 58,
   "id": "d15a9c9b-7563-43a6-be7f-4b750fd7eaf0",
   "metadata": {},
   "outputs": [
    {
     "name": "stdout",
     "output_type": "stream",
     "text": [
      "Predicting sentiment...\n"
     ]
    }
   ],
   "source": [
    "print(\"Predicting sentiment...\")"
   ]
  },
  {
   "cell_type": "code",
   "execution_count": 29,
   "id": "c6ba00d6-9393-4fe8-9a6d-43714d3146d2",
   "metadata": {},
   "outputs": [],
   "source": [
    "model = LSTM()"
   ]
  },
  {
   "cell_type": "code",
   "execution_count": 30,
   "id": "d2e2ae95-4ee2-43b1-b4aa-04c3207686f0",
   "metadata": {},
   "outputs": [
    {
     "data": {
      "text/plain": [
       "LSTM(\n",
       "  (embedding): Embedding(200000, 300)\n",
       "  (lstm): LSTM(300, 128, batch_first=True)\n",
       "  (dropout): Dropout(p=0.2, inplace=False)\n",
       "  (out): Linear(in_features=128, out_features=3, bias=True)\n",
       ")"
      ]
     },
     "execution_count": 30,
     "metadata": {},
     "output_type": "execute_result"
    }
   ],
   "source": [
    "model.load_state_dict(torch.load(\"trained_models/lstm_glove200k_10epoch_with_stoppwords\"))\n",
    "model.cuda()"
   ]
  },
  {
   "cell_type": "code",
   "execution_count": 37,
   "id": "19311dd2-eb08-436e-a68e-e69af7543c22",
   "metadata": {},
   "outputs": [],
   "source": [
    "inp = torch.LongTensor(test_X).cuda()"
   ]
  },
  {
   "cell_type": "code",
   "execution_count": 38,
   "id": "4bc6bc2f-61c0-48c5-8458-1154d6a15e7b",
   "metadata": {},
   "outputs": [
    {
     "data": {
      "text/plain": [
       "tensor([[  0,   0,   0,   0,   0,   0,   0,   0,   0,   0,   0,   0,   0,   0,\n",
       "           0,   0,   0,   0,   0,   0,   0,   0,   0,   0,   0,   0,   0,   0,\n",
       "           0,   0,   0,   0,   0,   0,   0,   0,   0,   0,   0,   0,   0,   0,\n",
       "           0,   0,   0,   0,   0,   0,   0,   0,   0,   0,   6,   5,   1, 114,\n",
       "          14,  19, 159, 134]], device='cuda:0')"
      ]
     },
     "execution_count": 38,
     "metadata": {},
     "output_type": "execute_result"
    }
   ],
   "source": [
    "inp"
   ]
  },
  {
   "cell_type": "code",
   "execution_count": 42,
   "id": "d653f765-66e5-44bb-bb21-97a79e08b0e8",
   "metadata": {},
   "outputs": [],
   "source": [
    "model.eval()  \n",
    "y_pred = model(inp).detach()"
   ]
  },
  {
   "cell_type": "code",
   "execution_count": 43,
   "id": "b81f08a8-3bc9-4378-85da-73549111c13d",
   "metadata": {},
   "outputs": [],
   "source": [
    "# keep/store predictions\n",
    "pred =F.softmax(y_pred, dim = 1).cpu().numpy()"
   ]
  },
  {
   "cell_type": "code",
   "execution_count": 48,
   "id": "daa03358-f5c8-4ede-8005-d9d029786cd6",
   "metadata": {},
   "outputs": [],
   "source": [
    "sentiments = ['negative', 'neutral', 'positive']"
   ]
  },
  {
   "cell_type": "code",
   "execution_count": 50,
   "id": "387bafeb-2851-4580-8228-80262463ce23",
   "metadata": {},
   "outputs": [],
   "source": [
    "prob = np.max(pred)\n",
    "sentiment = sentiments[np.argmax(pred, axis = 1)[0]]"
   ]
  },
  {
   "cell_type": "code",
   "execution_count": 51,
   "id": "87ada37c-0bc0-49a7-a17d-288ac5e25c9f",
   "metadata": {},
   "outputs": [
    {
     "data": {
      "text/plain": [
       "0.9730513"
      ]
     },
     "execution_count": 51,
     "metadata": {},
     "output_type": "execute_result"
    }
   ],
   "source": [
    "prob"
   ]
  },
  {
   "cell_type": "code",
   "execution_count": 52,
   "id": "194692f8-4a4b-4f0d-aac6-6a80afc253db",
   "metadata": {},
   "outputs": [
    {
     "data": {
      "text/plain": [
       "'positive'"
      ]
     },
     "execution_count": 52,
     "metadata": {},
     "output_type": "execute_result"
    }
   ],
   "source": [
    "sentiment"
   ]
  },
  {
   "cell_type": "code",
   "execution_count": 54,
   "id": "c8a40a91-4a22-4ef5-beb7-13da411ab804",
   "metadata": {},
   "outputs": [
    {
     "name": "stdout",
     "output_type": "stream",
     "text": [
      "The sentence is 97 % likely to be positive.\n"
     ]
    }
   ],
   "source": [
    "print(f'The sentence is {int(prob*100)} % likely to be {sentiment}.')"
   ]
  },
  {
   "cell_type": "code",
   "execution_count": null,
   "id": "8fc7b58d-5687-4548-a2b3-12c759d2b3f9",
   "metadata": {},
   "outputs": [],
   "source": []
  }
 ],
 "metadata": {
  "kernelspec": {
   "display_name": "Python 3 (ipykernel)",
   "language": "python",
   "name": "python3"
  },
  "language_info": {
   "codemirror_mode": {
    "name": "ipython",
    "version": 3
   },
   "file_extension": ".py",
   "mimetype": "text/x-python",
   "name": "python",
   "nbconvert_exporter": "python",
   "pygments_lexer": "ipython3",
   "version": "3.8.10"
  }
 },
 "nbformat": 4,
 "nbformat_minor": 5
}
