{
 "cells": [
  {
   "cell_type": "code",
   "execution_count": 1,
   "id": "774c67fa-6509-4b18-aa07-d08ec709855f",
   "metadata": {},
   "outputs": [],
   "source": [
    "# resource used: https://towardsdatascience.com/sentiment-analysis-of-tweets-using-multinomial-naive-bayes-1009ed24276b"
   ]
  },
  {
   "cell_type": "code",
   "execution_count": 1,
   "id": "820c2e13-4388-4b8b-b5a2-3af97999601d",
   "metadata": {},
   "outputs": [],
   "source": [
    "import os\n",
    "import numpy as np\n",
    "import pandas as pd\n",
    "from sklearn.feature_extraction.text import TfidfTransformer, CountVectorizer\n",
    "from sklearn.naive_bayes import MultinomialNB\n",
    "\n",
    "import torch\n",
    "import torch.nn as nn\n",
    "import torch.optim as optim\n",
    "import torch.nn.functional as F\n",
    "from torch.utils.data import Dataset, DataLoader\n",
    "from torch.nn.utils.rnn import pack_padded_sequence, pad_packed_sequence\n",
    "from torch.autograd import Variable\n",
    "from torch.optim.optimizer import Optimizer\n",
    "import torch as t\n",
    "import torch.nn as nn\n",
    "import torch.nn.functional as F\n",
    "\n",
    "from keras.preprocessing.text import Tokenizer"
   ]
  },
  {
   "cell_type": "code",
   "execution_count": 2,
   "id": "ffe832c6-3687-4642-ba08-187c58b7387a",
   "metadata": {},
   "outputs": [],
   "source": [
    "df_movie = pd.read_pickle(\"data/Movies_and_TV_5_purged_balanced_with_stopwords.pkl\")"
   ]
  },
  {
   "cell_type": "code",
   "execution_count": 2,
   "id": "57ee67d3-a24d-461b-9523-3dbfdcc910be",
   "metadata": {},
   "outputs": [
    {
     "name": "stdout",
     "output_type": "stream",
     "text": [
      "         Unnamed: 0                                         reviewText  \\\n",
      "0                 0  [pearl, story, is, inspiring, to, say, the, le...   \n",
      "1                 1                                 [love, this, show]   \n",
      "2                 2  [whats, so, great, about, this, film, is, that...   \n",
      "3                 3                                            [great]   \n",
      "4                 4               [what, can, say, but, true, classic]   \n",
      "...             ...                                                ...   \n",
      "1080667     1080667  [have, seen, the, movie, in, english, on, cabl...   \n",
      "1080668     1080668  [really, hard, to, give, this, four, star, rat...   \n",
      "1080669     1080669  [spoiler, alert, here, sort, of, basically, ev...   \n",
      "1080670     1080670  [season, was, quite, strong, and, rated, it, s...   \n",
      "1080671     1080671                 [sorry, did, not, like, this, one]   \n",
      "\n",
      "         overall  label  \n",
      "0            5.0    2.0  \n",
      "1            5.0    2.0  \n",
      "2            5.0    2.0  \n",
      "3            5.0    2.0  \n",
      "4            5.0    2.0  \n",
      "...          ...    ...  \n",
      "1080667      2.0    0.0  \n",
      "1080668      2.0    0.0  \n",
      "1080669      2.0    0.0  \n",
      "1080670      2.0    0.0  \n",
      "1080671      2.0    0.0  \n",
      "\n",
      "[1080672 rows x 4 columns]\n"
     ]
    }
   ],
   "source": [
    "import pickle \n",
    "infile = open('./data/Movies_and_TV_5_purged_balanced_with_stopwords.pkl','rb')\n",
    "df_movie = pickle.load(infile)\n",
    "infile.close()\n",
    "\n",
    "infile_eval = open('./data/Sports_and_Outdoors_5_balanced_with_stopwords.pkl','rb')\n",
    "df_sports = pickle.load(infile_eval)\n",
    "infile_eval.close()\n",
    "\n",
    "print(df_movie)"
   ]
  },
  {
   "cell_type": "code",
   "execution_count": 3,
   "id": "a6a4cac3-743d-44b2-a52c-9f3fd14dc135",
   "metadata": {},
   "outputs": [
    {
     "data": {
      "text/html": [
       "<div>\n",
       "<style scoped>\n",
       "    .dataframe tbody tr th:only-of-type {\n",
       "        vertical-align: middle;\n",
       "    }\n",
       "\n",
       "    .dataframe tbody tr th {\n",
       "        vertical-align: top;\n",
       "    }\n",
       "\n",
       "    .dataframe thead th {\n",
       "        text-align: right;\n",
       "    }\n",
       "</style>\n",
       "<table border=\"1\" class=\"dataframe\">\n",
       "  <thead>\n",
       "    <tr style=\"text-align: right;\">\n",
       "      <th></th>\n",
       "      <th>Unnamed: 0</th>\n",
       "      <th>reviewText</th>\n",
       "      <th>overall</th>\n",
       "    </tr>\n",
       "    <tr>\n",
       "      <th>label</th>\n",
       "      <th></th>\n",
       "      <th></th>\n",
       "      <th></th>\n",
       "    </tr>\n",
       "  </thead>\n",
       "  <tbody>\n",
       "    <tr>\n",
       "      <th>0.0</th>\n",
       "      <td>365517</td>\n",
       "      <td>365517</td>\n",
       "      <td>365517</td>\n",
       "    </tr>\n",
       "    <tr>\n",
       "      <th>1.0</th>\n",
       "      <td>349638</td>\n",
       "      <td>349638</td>\n",
       "      <td>349638</td>\n",
       "    </tr>\n",
       "    <tr>\n",
       "      <th>2.0</th>\n",
       "      <td>365517</td>\n",
       "      <td>365517</td>\n",
       "      <td>365517</td>\n",
       "    </tr>\n",
       "  </tbody>\n",
       "</table>\n",
       "</div>"
      ],
      "text/plain": [
       "       Unnamed: 0  reviewText  overall\n",
       "label                                 \n",
       "0.0        365517      365517   365517\n",
       "1.0        349638      349638   349638\n",
       "2.0        365517      365517   365517"
      ]
     },
     "execution_count": 3,
     "metadata": {},
     "output_type": "execute_result"
    }
   ],
   "source": [
    "# check how balanced the training dataset is\n",
    "df_movie.groupby(['label']).count()"
   ]
  },
  {
   "cell_type": "code",
   "execution_count": 4,
   "id": "0664f3de-0a67-444e-b4ac-7a4e525e058f",
   "metadata": {},
   "outputs": [],
   "source": [
    "from sklearn.model_selection import train_test_split\n",
    "# df_movie[\"reviewText\"] = df_movie[\"reviewText\"].apply(lambda x: \" \".join(x))\n",
    "train_X, test_X, train_y, test_y = train_test_split(df_movie['reviewText'], df_movie['label'], stratify=df_movie['label'], test_size=0.2)"
   ]
  },
  {
   "cell_type": "code",
   "execution_count": 5,
   "id": "8089ca18-972c-4afa-b955-fecaa1a49b34",
   "metadata": {},
   "outputs": [
    {
     "name": "stdout",
     "output_type": "stream",
     "text": [
      "Train shape :  (864537,)\n",
      "Test shape :  (216135,)\n",
      "871392    [am, big, mortal, kombat, fan, and, am, glad, ...\n",
      "785393    [image, entertainment, bought, madacy, in, can...\n",
      "205270                                                   []\n",
      "207708    [really, loved, this, movie, and, would, recom...\n",
      "898534    [kind, of, stupid, and, not, very, entertainin...\n",
      "                                ...                        \n",
      "219688    [this, is, great, dvd, to, do, in, the, mornin...\n",
      "645946                      [story, line, was, bit, boring]\n",
      "892366    [everybody, already, knows, the, formula, ever...\n",
      "513885    [visionary, this, is, beautiful, the, monsters...\n",
      "120069    [have, watched, this, movie, few, times, and, ...\n",
      "Name: reviewText, Length: 864537, dtype: object\n"
     ]
    }
   ],
   "source": [
    "print(\"Train shape : \",train_X.shape)\n",
    "print(\"Test shape : \",test_X.shape)\n",
    "print(train_X)"
   ]
  },
  {
   "cell_type": "code",
   "execution_count": 6,
   "id": "d6d6ade5-9c59-4c5f-b9bf-4622d9145c7e",
   "metadata": {},
   "outputs": [],
   "source": [
    "max_features = 2000 # how many unique words to use (i.e num rows in embedding vector)\n",
    "## Tokenize the sentences\n",
    "tokenizer = Tokenizer(num_words=max_features)\n",
    "tokenizer.fit_on_texts(list(train_X))\n",
    "train_X = tokenizer.texts_to_sequences(list(train_X))\n",
    "test_X = tokenizer.texts_to_sequences(list(test_X))"
   ]
  },
  {
   "cell_type": "code",
   "execution_count": 7,
   "id": "c67ece3d-67bf-497a-8008-a42b8c76db2a",
   "metadata": {},
   "outputs": [],
   "source": [
    "tr_data = tokenizer.sequences_to_texts(train_X)\n",
    "test_data = tokenizer.sequences_to_texts(test_X)"
   ]
  },
  {
   "cell_type": "code",
   "execution_count": 8,
   "id": "a4b3fcbf-63a6-4fda-a3bb-40e3dbc8e6eb",
   "metadata": {},
   "outputs": [],
   "source": [
    "# convert text data into a matrix of token counts\n",
    "# ref: https://scikit-learn.org/stable/modules/generated/sklearn.feature_extraction.text.CountVectorizer.html\n",
    "vectorizer = CountVectorizer()\n",
    "\n",
    "x_train = vectorizer.fit_transform(tr_data).toarray()\n",
    "x_test = vectorizer.transform(test_data).toarray()"
   ]
  },
  {
   "cell_type": "code",
   "execution_count": 9,
   "id": "0b5a520a-f1b1-47bf-b5de-3374aeda2635",
   "metadata": {},
   "outputs": [],
   "source": [
    "# transform a count matrix to a normalized tf-idf representation\n",
    "# ref: https://scikit-learn.org/stable/modules/generated/sklearn.feature_extraction.text.TfidfTransformer.html\n",
    "transformer = TfidfTransformer()\n",
    "x_train = transformer.fit_transform(x_train).toarray()\n",
    "x_test = transformer.transform(x_test).toarray()"
   ]
  },
  {
   "cell_type": "code",
   "execution_count": 10,
   "id": "9d0e55c8-aca7-49d8-adc9-0b896088a465",
   "metadata": {},
   "outputs": [],
   "source": [
    "y_train = np.array(train_y)\n",
    "y_test = np.array(test_y)"
   ]
  },
  {
   "cell_type": "code",
   "execution_count": 11,
   "id": "51c44f96-2b3a-4228-9ded-787ea342a81b",
   "metadata": {},
   "outputs": [
    {
     "data": {
      "text/plain": [
       "MultinomialNB()"
      ]
     },
     "execution_count": 11,
     "metadata": {},
     "output_type": "execute_result"
    }
   ],
   "source": [
    "# initialize and train classifier\n",
    "classifier = MultinomialNB()\n",
    "classifier.fit(x_train, y_train)"
   ]
  },
  {
   "cell_type": "code",
   "execution_count": 12,
   "id": "612e0925-790c-407a-a5f0-d5fecb49715d",
   "metadata": {},
   "outputs": [
    {
     "name": "stdout",
     "output_type": "stream",
     "text": [
      "Accuracy (test): 67.46015221967751%\n"
     ]
    }
   ],
   "source": [
    "prediction_test = classifier.predict(x_test)\n",
    "val_preds = classifier.predict_proba(x_test)\n",
    "accuracy_test = np.mean(prediction_test==y_test)\n",
    "print(\"Accuracy (test): \" + str(accuracy_test * 100) + \"%\")"
   ]
  },
  {
   "cell_type": "code",
   "execution_count": 14,
   "id": "fbcfc9f3-0976-471d-9c4b-a07802ce1801",
   "metadata": {},
   "outputs": [
    {
     "data": {
      "image/png": "[encoded data removed]",
      "text/plain": [
       "<Figure size 432x432 with 2 Axes>"
      ]
     },
     "metadata": {
      "needs_background": "light"
     },
     "output_type": "display_data"
    }
   ],
   "source": [
    "import scikitplot as skplt\n",
    "import matplotlib.pyplot as plt\n",
    "y_true = [x for x in y_test]\n",
    "y_pred = [x for x in val_preds.argmax(axis=1)]\n",
    "skplt.metrics.plot_confusion_matrix(\n",
    "    y_true, \n",
    "    y_pred,\n",
    "    figsize=(6,6),x_tick_rotation=90)\n",
    "plt.savefig(\"results/naivebayes_confmtx_test.png\")"
   ]
  },
  {
   "cell_type": "code",
   "execution_count": 15,
   "id": "8d54955d-b2fa-4ae8-8cb0-78ddbb59c62f",
   "metadata": {},
   "outputs": [
    {
     "name": "stdout",
     "output_type": "stream",
     "text": [
      "Accuracy: 0.6746015221967752\n",
      "F1: [0.70169432 0.5793775  0.73751852]\n",
      "Precision: [0.69700651 0.58452559 0.73635694]\n",
      "Recall: [0.70644561 0.5743193  0.73868377]\n",
      "AUC: 0.8462328645291564\n"
     ]
    }
   ],
   "source": [
    "from sklearn.metrics import f1_score, precision_score, recall_score, roc_auc_score, accuracy_score\n",
    "\n",
    "print('Accuracy: {}'.format(accuracy_score(y_true, y_pred)))\n",
    "print('F1: {}'.format(f1_score(y_true, y_pred, average = None)))\n",
    "print('Precision: {}'.format(precision_score(y_true, y_pred, average = None)))\n",
    "print('Recall: {}'.format(recall_score(y_true, y_pred, average = None)))\n",
    "print(f'AUC: {roc_auc_score(y_true, val_preds, multi_class=\"ovr\")}')\n"
   ]
  },
  {
   "cell_type": "markdown",
   "id": "84d1dbd4-f4d0-4933-a61a-af8ad8748ea5",
   "metadata": {},
   "source": [
    "# Evaluation"
   ]
  },
  {
   "cell_type": "code",
   "execution_count": 2,
   "id": "666d3f59-56ac-4ba4-95fd-41efa4962cd5",
   "metadata": {},
   "outputs": [],
   "source": [
    "df_sports = pd.read_pickle(\"data/Sports_and_Outdoors_5_balanced_with_stopwords.pkl\")"
   ]
  },
  {
   "cell_type": "code",
   "execution_count": 16,
   "id": "4a41dea8-06f0-4811-9783-b0f4a1523ea0",
   "metadata": {},
   "outputs": [],
   "source": [
    "# save tools for evaluation\n",
    "import pickle\n",
    "with open('data/nb_tokenizer.pkl', 'wb') as handle:\n",
    "    pickle.dump(tokenizer, handle, protocol=pickle.HIGHEST_PROTOCOL)\n",
    "\n",
    "with open('data/nb_countvectorizer.pkl', 'wb') as handle:\n",
    "    pickle.dump(vectorizer, handle, protocol=pickle.HIGHEST_PROTOCOL)\n",
    "\n",
    "with open('data/nb_tfidf.pkl', 'wb') as handle:\n",
    "    pickle.dump(transformer, handle, protocol=pickle.HIGHEST_PROTOCOL)\n",
    "\n",
    "pickle.dump(classifier, open('nbclassifier.pkl', 'wb'))"
   ]
  },
  {
   "cell_type": "code",
   "execution_count": 3,
   "id": "f956f48f-7b9a-473e-b7b4-872bdd849200",
   "metadata": {},
   "outputs": [],
   "source": [
    "import pickle\n",
    "with open('data/nb_tokenizer.pkl', 'rb') as handle:\n",
    "    tokenizer = pickle.load(handle)\n",
    "    \n",
    "with open('data/nb_countvectorizer.pkl', 'rb') as handle:\n",
    "    vectorizer = pickle.load(handle)\n",
    "\n",
    "with open('data/nb_tfidf.pkl', 'rb') as handle:\n",
    "    transformer = pickle.load(handle)\n",
    "\n",
    "classifier = pickle.load(open('nbclassifier.pkl', 'rb'))"
   ]
  },
  {
   "cell_type": "code",
   "execution_count": 4,
   "id": "86f86817-75e8-4ace-ad5d-413cb315bf66",
   "metadata": {},
   "outputs": [],
   "source": [
    "eval_X = df_sports['reviewText']\n",
    "eval_X = tokenizer.texts_to_sequences(list(eval_X))\n",
    "eval_data = tokenizer.sequences_to_texts(eval_X)"
   ]
  },
  {
   "cell_type": "code",
   "execution_count": 5,
   "id": "0bfea974-d9f2-420e-ad07-6aa077b55780",
   "metadata": {},
   "outputs": [],
   "source": [
    "x_eval = vectorizer.transform(eval_data).toarray()"
   ]
  },
  {
   "cell_type": "code",
   "execution_count": 6,
   "id": "76b7fef0-484e-4296-86e0-d38d83647942",
   "metadata": {},
   "outputs": [],
   "source": [
    "x_eval = transformer.transform(x_eval).toarray()"
   ]
  },
  {
   "cell_type": "code",
   "execution_count": 7,
   "id": "d65ec6e3-cf6c-4bd6-b266-9c38e6e8b0c4",
   "metadata": {},
   "outputs": [],
   "source": [
    "y_eval= np.array(df_sports['label'])"
   ]
  },
  {
   "cell_type": "code",
   "execution_count": 8,
   "id": "4ebbfa7b-fa16-4550-bca5-d96bb7a58910",
   "metadata": {},
   "outputs": [
    {
     "name": "stdout",
     "output_type": "stream",
     "text": [
      "Accuracy (evaluation): 60.79817232146261%\n"
     ]
    }
   ],
   "source": [
    "# evaluation on 'evaluation' data\n",
    "prediction_eval = classifier.predict(x_eval)\n",
    "val_preds_eval = classifier.predict_proba(x_eval)\n",
    "accuracy_eval = np.mean(prediction_eval==y_eval)\n",
    "print(\"Accuracy (evaluation): \" + str(accuracy_eval * 100) + \"%\")"
   ]
  },
  {
   "cell_type": "code",
   "execution_count": 10,
   "id": "a722a33a-314a-4291-b4da-1a70067ddbc4",
   "metadata": {},
   "outputs": [
    {
     "name": "stdout",
     "output_type": "stream",
     "text": [
      "Evaluation\n"
     ]
    },
    {
     "data": {
      "image/png": "[encoded data removed]",
      "text/plain": [
       "<Figure size 432x432 with 2 Axes>"
      ]
     },
     "metadata": {
      "needs_background": "light"
     },
     "output_type": "display_data"
    }
   ],
   "source": [
    "print(\"Evaluation\")\n",
    "import scikitplot as skplt\n",
    "import matplotlib.pyplot as plt\n",
    "y_true_eval = [x for x in y_eval]\n",
    "y_pred_eval = [x for x in val_preds_eval.argmax(axis=1)]\n",
    "skplt.metrics.plot_confusion_matrix(\n",
    "    y_true_eval, \n",
    "    y_pred_eval,\n",
    "    figsize=(6,6),x_tick_rotation=90)\n",
    "plt.savefig(\"results/naivebayes_confmtx_eval.png\")"
   ]
  },
  {
   "cell_type": "code",
   "execution_count": 11,
   "id": "168aa4c3-bd35-4647-a202-d3f5b699bac9",
   "metadata": {},
   "outputs": [
    {
     "name": "stdout",
     "output_type": "stream",
     "text": [
      "Evaluation\n",
      "Accuracy: 0.6079817232146261\n",
      "F1: [0.54106717 0.41055358 0.73043556]\n",
      "Precision: [0.45159281 0.37195197 0.85633954]\n",
      "Recall: [0.67475724 0.45809524 0.63680833]\n",
      "AUC: 0.7949740100845789\n"
     ]
    }
   ],
   "source": [
    "print(\"Evaluation\")\n",
    "from sklearn.metrics import f1_score, precision_score, recall_score, roc_auc_score, accuracy_score\n",
    "\n",
    "print('Accuracy: {}'.format(accuracy_score(y_true_eval, y_pred_eval)))\n",
    "print('F1: {}'.format(f1_score(y_true_eval, y_pred_eval, average = None)))\n",
    "print('Precision: {}'.format(precision_score(y_true_eval, y_pred_eval, average = None)))\n",
    "print('Recall: {}'.format(recall_score(y_true_eval, y_pred_eval, average = None)))\n",
    "print(f'AUC: {roc_auc_score(y_true_eval, val_preds_eval, multi_class=\"ovr\")}')\n"
   ]
  },
  {
   "cell_type": "code",
   "execution_count": null,
   "id": "e67d0e46-1de7-4278-990d-295d72423401",
   "metadata": {},
   "outputs": [],
   "source": [
    "import matplotlib.pyplot as plt\n",
    "from sklearn.metrics import roc_curve, auc\n",
    "from sklearn.preprocessing import OneHotEncoder\n",
    "\n",
    "# Creating OneHotEncoded labels for multiclasss plots\n",
    "enc = OneHotEncoder(handle_unknown='ignore')\n",
    "y_test = np.array(enc.fit_transform(np.array(y_true).reshape(-1, 1)).todense())\n",
    "\n",
    "# Compute ROC curve and ROC area for each class\n",
    "fpr = dict()\n",
    "tpr = dict()\n",
    "roc_auc = dict()\n",
    "n_classes = 3\n",
    "for i in range(n_classes):\n",
    "    fpr[i], tpr[i], _ = roc_curve(y_test[:, i], val_preds[:, i])\n",
    "    roc_auc[i] = auc(fpr[i], tpr[i])\n",
    "\n",
    "# Plot of a ROC curve for a specific class\n",
    "for i in range(n_classes):\n",
    "    plt.figure()\n",
    "    plt.plot(fpr[i], tpr[i], label='ROC curve (area = %0.2f)' % roc_auc[i])\n",
    "    plt.plot([0, 1], [0, 1], 'k--')\n",
    "    plt.xlim([0.0, 1.0])\n",
    "    plt.ylim([0.0, 1.05])\n",
    "    plt.xlabel('False Positive Rate')\n",
    "    plt.ylabel('True Positive Rate')\n",
    "    plt.title(f'Receiver operating characteristic example (class {i})')\n",
    "    plt.legend(loc=\"lower right\")\n",
    "    plt.show()"
   ]
  },
  {
   "cell_type": "code",
   "execution_count": null,
   "id": "3d8575b2-4f46-46bc-b1de-bc5400ebef43",
   "metadata": {},
   "outputs": [],
   "source": []
  }
 ],
 "metadata": {
  "kernelspec": {
   "display_name": "Python 3 (ipykernel)",
   "language": "python",
   "name": "python3"
  },
  "language_info": {
   "codemirror_mode": {
    "name": "ipython",
    "version": 3
   },
   "file_extension": ".py",
   "mimetype": "text/x-python",
   "name": "python",
   "nbconvert_exporter": "python",
   "pygments_lexer": "ipython3",
   "version": "3.8.10"
  }
 },
 "nbformat": 4,
 "nbformat_minor": 5
}
